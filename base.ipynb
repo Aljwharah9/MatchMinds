{
  "cells": [
    {
      "cell_type": "code",
      "execution_count": 1,
      "metadata": {
        "trusted": true
      },
      "outputs": [
        {
          "name": "stdout",
          "output_type": "stream",
          "text": [
            "<class 'pandas.core.frame.DataFrame'>\n",
            "RangeIndex: 23921 entries, 0 to 23920\n",
            "Data columns (total 25 columns):\n",
            " #   Column                         Non-Null Count  Dtype  \n",
            "---  ------                         --------------  -----  \n",
            " 0   date                           23921 non-null  object \n",
            " 1   home_team                      23921 non-null  object \n",
            " 2   away_team                      23921 non-null  object \n",
            " 3   home_team_continent            23921 non-null  object \n",
            " 4   away_team_continent            23921 non-null  object \n",
            " 5   home_team_fifa_rank            23921 non-null  int64  \n",
            " 6   away_team_fifa_rank            23921 non-null  int64  \n",
            " 7   home_team_total_fifa_points    23921 non-null  int64  \n",
            " 8   away_team_total_fifa_points    23921 non-null  int64  \n",
            " 9   home_team_score                23921 non-null  int64  \n",
            " 10  away_team_score                23921 non-null  int64  \n",
            " 11  tournament                     23921 non-null  object \n",
            " 12  city                           23921 non-null  object \n",
            " 13  country                        23921 non-null  object \n",
            " 14  neutral_location               23921 non-null  bool   \n",
            " 15  shoot_out                      23921 non-null  object \n",
            " 16  home_team_result               23921 non-null  object \n",
            " 17  home_team_goalkeeper_score     8379 non-null   float64\n",
            " 18  away_team_goalkeeper_score     8095 non-null   float64\n",
            " 19  home_team_mean_defense_score   7787 non-null   float64\n",
            " 20  home_team_mean_offense_score   8510 non-null   float64\n",
            " 21  home_team_mean_midfield_score  8162 non-null   float64\n",
            " 22  away_team_mean_defense_score   7564 non-null   float64\n",
            " 23  away_team_mean_offense_score   8312 non-null   float64\n",
            " 24  away_team_mean_midfield_score  7979 non-null   float64\n",
            "dtypes: bool(1), float64(8), int64(6), object(10)\n",
            "memory usage: 4.4+ MB\n",
            "None\n"
          ]
        }
      ],
      "source": [
        "import pandas as pd\n",
        "\n",
        "df = pd.read_csv('Dataset/international_matches.csv')\n",
        "\n",
        "print(df.info())"
      ]
    },
    {
      "cell_type": "code",
      "execution_count": 2,
      "metadata": {},
      "outputs": [
        {
          "name": "stdout",
          "output_type": "stream",
          "text": [
            "23921\n"
          ]
        }
      ],
      "source": [
        "import pandas as pd\n",
        "\n",
        "df = pd.read_csv('Dataset/international_matches.csv')\n",
        "num_row=len(df)\n",
        "\n",
        "print(num_row)"
      ]
    },
    {
      "cell_type": "markdown",
      "metadata": {},
      "source": [
        "#Goal of Collecting Dataset:\n",
        "\n",
        "The primary goal of collecting and analyzing this dataset is to gain insights into the FIFA World Cup 2022 matches. This can involve tasks such as:\n",
        "\n",
        "Performance Analysis: Evaluating team and player performance based on various metrics.\n",
        "Predictive Modeling: Developing models to predict match outcomes or player performance.\n",
        "Trend Analysis: Identifying trends and patterns in match results, scoring, and other relevant statistics.\n",
        "\n",
        "We will achieve this by clustering data and classifying it using machine learning techniques acquired during the course.\n"
      ]
    },
    {
      "cell_type": "markdown",
      "metadata": {},
      "source": [
        "##Source of Dataset:\n",
        "Kaggle Platform Dataset link: https://www.kaggle.com/datasets/brenda89/fifa-world-cup-2022"
      ]
    },
    {
      "cell_type": "markdown",
      "metadata": {},
      "source": [
        "##General Information about the Dataset:\n",
        "\n",
        "Number of Attributes:25\n",
        "\n",
        "Number of Objects:23921 (Match)\n",
        "\n",
        "Class Name/Labels: home_team_result\n"
      ]
    }
  ],
  "metadata": {
    "kernelspec": {
      "display_name": "Python 3 (ipykernel)",
      "language": "python",
      "name": "python3"
    },
    "language_info": {
      "codemirror_mode": {
        "name": "ipython",
        "version": 3
      },
      "file_extension": ".py",
      "mimetype": "text/x-python",
      "name": "python",
      "nbconvert_exporter": "python",
      "pygments_lexer": "ipython3",
      "version": "3.12.1"
    }
  },
  "nbformat": 4,
  "nbformat_minor": 4
}
