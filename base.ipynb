{
  "cells": [
    {
      "cell_type": "markdown",
      "metadata": {},
      "source": [
        "#Goal of Collecting Dataset:\n",
        "\n",
        "The primary goal of analyzing this dataset is to:\n",
        "\n",
        "Performance Analysis: Assess team and player performances by examining various metrics such as goals, assists, and other key statistics.\n",
        "\n",
        "Outcome Prediction: Develop models to predict match outcomes or player performances based on historical data.\n",
        "\n",
        "Trend Identification: Discover trends and patterns in match results, player statistics, and team strategies.\n",
        "\n",
        "We will achieve this by clustering data and classifying it using machine learning techniques acquired during the course."
      ]
    },
    {
      "cell_type": "markdown",
      "metadata": {},
      "source": [
        "##Source of Dataset:\n",
        "Kaggle Platform Dataset link: https://www.kaggle.com/datasets/evangower/fifa-world-cup"
      ]
    },
    {
      "cell_type": "markdown",
      "metadata": {},
      "source": [
        "##General Information about the Dataset:\n",
        "\n",
        "Number of Attributes:15\n",
        "\n",
        "Number of Objects:900 (Match)\n",
        "\n",
        "Class Name/Labels: home_team_result\n"
      ]
    },
    {
      "cell_type": "markdown",
      "metadata": {},
      "source": [
        "| Attributes Name | Data type | Description | Possible Values |\n",
        "|----------|----------|----------|----------|\n",
        "|Year |\tInteger| The year of the match |\tAny year (e.g., 1930, 1934, etc.)|\n",
        "|Country |\tString |The country hosting the World Cup | E.g., Uruguay, Italy, France, etc.|\n",
        "|City\t| String |\tThe city where the match took place\t | E.g., Montevideo, Bologna, Paris, etc.|\n",
        "|Stage\t| String|\tThe stage of the tournament |\tGroup 1, Group 2, Semifinals, Final, etc.|\n",
        "|Home Team |\tString | The team playing at home |\tE.g., Brazil, Germany, Argentina, etc.|\n",
        "|Away Team |\tString |\tThe team playing away |\tE.g., Mexico, Sweden, Italy, etc.|\n",
        "|Home Score |\tInteger\t| The score of the home team |\tAny non-negative integer|\n",
        "|Away Score\t| Integer |\tThe score of the away team |\tAny non-negative integer|\n",
        "|Outcome |\tString | The result of the match |\tH (Home win), A (Away win), D (Draw)|\n",
        "|Win Conditions |\tString |\tConditions under which the winning team was determined\tSpecific phrases |(e.g., \"won in AET\", \"NA\")|\n",
        "|Winning Team |\tString | The team that won the match |\tE.g., Brazil, Italy, etc.|\n",
        "|Losing Team|\tString | The team that lost the match |\tE.g., Mexico, Argentina, etc.|\n",
        "|Date |Date |\tThe date of the match |\tFormat: YYYY-MM-DD |\n",
        "|Month |String\t|The month in which the match took place| E.g., Jan, Feb, Mar, Apr, ...|\n",
        "|DayOfWeek |\tString |\tThe day of the week when the match occurred | E.g., Sunday, Monday, Tuesday, etc.|\n"
      ]
    },
    {
      "cell_type": "code",
      "execution_count": 1,
      "metadata": {
        "trusted": true
      },
      "outputs": [
        {
          "name": "stdout",
          "output_type": "stream",
          "text": [
            "<class 'pandas.core.frame.DataFrame'>\n",
            "RangeIndex: 900 entries, 0 to 899\n",
            "Data columns (total 15 columns):\n",
            " #   Column          Non-Null Count  Dtype \n",
            "---  ------          --------------  ----- \n",
            " 0   year            900 non-null    int64 \n",
            " 1   country         900 non-null    object\n",
            " 2   city            900 non-null    object\n",
            " 3   stage           900 non-null    object\n",
            " 4   home_team       900 non-null    object\n",
            " 5   away_team       900 non-null    object\n",
            " 6   home_score      900 non-null    int64 \n",
            " 7   away_score      900 non-null    int64 \n",
            " 8   outcome         900 non-null    object\n",
            " 9   win_conditions  62 non-null     object\n",
            " 10  winning_team    731 non-null    object\n",
            " 11  losing_team     731 non-null    object\n",
            " 12  date            900 non-null    object\n",
            " 13  month           900 non-null    object\n",
            " 14  dayofweek       900 non-null    object\n",
            "dtypes: int64(3), object(12)\n",
            "memory usage: 105.6+ KB\n",
            "None\n"
          ]
        }
      ],
      "source": [
        "import pandas as pd\n",
        "\n",
        "df = pd.read_csv('Dataset/wcmatches.csv')\n",
        "\n",
        "print(df.info())"
      ]
    },
    {
      "cell_type": "code",
      "execution_count": 2,
      "metadata": {},
      "outputs": [
        {
          "name": "stdout",
          "output_type": "stream",
          "text": [
            "900\n"
          ]
        }
      ],
      "source": [
        "\n",
        "import pandas as pddf = pd.read_csv('Dataset/wcmatches.csv')print(df.info())\n",
        "\n",
        "import pandas as pddf = pd.read_csv('Dataset/wcmatches.csv')num_row=len(df)print(num_row)\n",
        "\n",
        "import pandas as pd\n",
        "\n",
        "df = pd.read_csv('Dataset/wcmatches.csv')\n",
        "num_row=len(df)\n",
        "\n",
        "print(num_row)"
      ]
    }
  ],
  "metadata": {
    "kernelspec": {
      "display_name": "Python 3 (ipykernel)",
      "language": "python",
      "name": "python3"
    },
    "language_info": {
      "codemirror_mode": {
        "name": "ipython",
        "version": 3
      },
      "file_extension": ".py",
      "mimetype": "text/x-python",
      "name": "python",
      "nbconvert_exporter": "python",
      "pygments_lexer": "ipython3",
      "version": "3.12.1"
    }
  },
  "nbformat": 4,
  "nbformat_minor": 4
}
