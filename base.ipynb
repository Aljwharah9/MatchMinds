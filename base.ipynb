{
  "metadata": {
    "kernelspec": {
      "name": "python",
      "display_name": "Python (Pyodide)",
      "language": "python"
    },
    "language_info": {
      "codemirror_mode": {
        "name": "python",
        "version": 3
      },
      "file_extension": ".py",
      "mimetype": "text/x-python",
      "name": "python",
      "nbconvert_exporter": "python",
      "pygments_lexer": "ipython3",
      "version": "3.8"
    }
  },
  "nbformat_minor": 4,
  "nbformat": 4,
  "cells": [
    {
      "cell_type": "code",
      "source": "import pandas as pd\n\ndf = pd.read_csv('international_matches.csv')\n\nprint(df.info())",
      "metadata": {
        "trusted": true
      },
      "outputs": [
        {
          "name": "stdout",
          "text": "<class 'pandas.core.frame.DataFrame'>\nRangeIndex: 23921 entries, 0 to 23920\nData columns (total 25 columns):\n #   Column                         Non-Null Count  Dtype  \n---  ------                         --------------  -----  \n 0   date                           23921 non-null  object \n 1   home_team                      23921 non-null  object \n 2   away_team                      23921 non-null  object \n 3   home_team_continent            23921 non-null  object \n 4   away_team_continent            23921 non-null  object \n 5   home_team_fifa_rank            23921 non-null  int64  \n 6   away_team_fifa_rank            23921 non-null  int64  \n 7   home_team_total_fifa_points    23921 non-null  int64  \n 8   away_team_total_fifa_points    23921 non-null  int64  \n 9   home_team_score                23921 non-null  int64  \n 10  away_team_score                23921 non-null  int64  \n 11  tournament                     23921 non-null  object \n 12  city                           23921 non-null  object \n 13  country                        23921 non-null  object \n 14  neutral_location               23921 non-null  bool   \n 15  shoot_out                      23921 non-null  object \n 16  home_team_result               23921 non-null  object \n 17  home_team_goalkeeper_score     8379 non-null   float64\n 18  away_team_goalkeeper_score     8095 non-null   float64\n 19  home_team_mean_defense_score   7787 non-null   float64\n 20  home_team_mean_offense_score   8510 non-null   float64\n 21  home_team_mean_midfield_score  8162 non-null   float64\n 22  away_team_mean_defense_score   7564 non-null   float64\n 23  away_team_mean_offense_score   8312 non-null   float64\n 24  away_team_mean_midfield_score  7979 non-null   float64\ndtypes: bool(1), float64(8), int64(6), object(10)\nmemory usage: 3.5+ MB\nNone\n",
          "output_type": "stream"
        }
      ],
      "execution_count": 2
    },
    {
      "cell_type": "code",
      "source": "",
      "metadata": {
        "trusted": true
      },
      "outputs": [],
      "execution_count": null
    }
  ]
}