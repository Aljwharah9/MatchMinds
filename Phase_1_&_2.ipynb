{
  "cells": [
    {
      "cell_type": "markdown",
      "metadata": {},
      "source": [
        "# Phase1:"
      ]
    },
    {
      "cell_type": "markdown",
      "metadata": {},
      "source": [
        "## Goal of Collecting Dataset:\n",
        "\n",
        "The aim of analyzing this football match dataset is to conduct a comprehensive performance evaluation of teams and players by examining key metrics such as goals, assists, and other relevant statistics. By leveraging historical data, we aim to build predictive models capable of forecasting match outcomes and individual player performances. Additionally, the analysis seeks to uncover trends and patterns in match results, player statistics, and team strategies, which can provide valuable insights into game dynamics and competitive behaviors.\n",
        "\n",
        "To achieve these objectives, we will employ clustering and classification techniques using machine learning methods learned during the course."
      ]
    },
    {
      "cell_type": "markdown",
      "metadata": {},
      "source": [
        "## Source of Dataset: \n",
        "Kaggle Platform Dataset link: https://www.kaggle.com/datasets/evangower/fifa-world-cup"
      ]
    },
    {
      "cell_type": "markdown",
      "metadata": {},
      "source": [
        "## General Information about the Dataset:\n",
        "\n",
        "Number of Attributes:15\n",
        "\n",
        "Number of Objects:900 (Match)\n",
        "\n",
        "Class Name/Labels: outcome\n"
      ]
    },
    {
      "cell_type": "code",
      "execution_count": 13,
      "metadata": {},
      "outputs": [
        {
          "name": "stdout",
          "output_type": "stream",
          "text": [
            "<class 'pandas.core.frame.DataFrame'>\n",
            "RangeIndex: 900 entries, 0 to 899\n",
            "Data columns (total 15 columns):\n",
            " #   Column          Non-Null Count  Dtype \n",
            "---  ------          --------------  ----- \n",
            " 0   year            900 non-null    int64 \n",
            " 1   country         900 non-null    object\n",
            " 2   city            900 non-null    object\n",
            " 3   stage           900 non-null    object\n",
            " 4   home_team       900 non-null    object\n",
            " 5   away_team       900 non-null    object\n",
            " 6   home_score      900 non-null    int64 \n",
            " 7   away_score      900 non-null    int64 \n",
            " 8   outcome         900 non-null    object\n",
            " 9   win_conditions  62 non-null     object\n",
            " 10  winning_team    731 non-null    object\n",
            " 11  losing_team     731 non-null    object\n",
            " 12  date            900 non-null    object\n",
            " 13  month           900 non-null    object\n",
            " 14  dayofweek       900 non-null    object\n",
            "dtypes: int64(3), object(12)\n",
            "memory usage: 105.6+ KB\n",
            "None\n",
            "Number of rows: 900\n"
          ]
        }
      ],
      "source": [
        "\n",
        "import pandas as pd\n",
        "\n",
        "df = pd.read_csv('Dataset/wcmatches.csv')\n",
        "\n",
        "print(df.info())\n",
        "\n",
        "num_row = len(df)\n",
        "print(\"Number of rows:\", num_row)\n"
      ]
    },
    {
      "cell_type": "markdown",
      "metadata": {},
      "source": [
        "------------------------------------------------------"
      ]
    },
    {
      "cell_type": "markdown",
      "metadata": {},
      "source": [
        "# Phase2:"
      ]
    },
    {
      "cell_type": "markdown",
      "metadata": {},
      "source": [
        "| Attributes Name | Data type | Description | Possible Values |\n",
        "|----------|----------|----------|----------|\n",
        "|Year |\tInteger| The year of the match |\tAny year (e.g., 1930, 1934, etc.)|\n",
        "|Country |\tString |The country hosting the World Cup |  Categorical string values (different possible)|\n",
        "|City\t| String |\tThe city where the match took place\t | Categorical string values (different possible)|\n",
        "|Stage\t| String|\tThe stage of the tournament | Categorical string values (different possible)|\n",
        "|Home Team |\tString | The team playing at home |\tCategorical string values (different possible)|\n",
        "|Away Team |\tString |\tThe team playing away |\tCategorical string values (different possible)|\n",
        "|Home Score |\tInteger\t| The score of the home team |\t0-10|\n",
        "|Away Score\t| Integer |\tThe score of the away team |\t0-8|\n",
        "|Outcome |\tString | The result of the match |\tH (Home win), A (Away win), D (Draw)|\n",
        "|Win Conditions |\tString |\tConditions under which the winning team was determined\tSpecific phrases |Categorical string values (different possible)|\n",
        "|Winning Team |\tString | The team that won the match |\tCategorical string values (different possible)|\n",
        "|Losing Team|\tString | The team that lost the match |\tCategorical string values (different possible)|\n",
        "|Date |Date |\tThe date of the match |\tDatetime |\n",
        "|Month |String\t|The month in which the match took place|Categorical string values (different possible)|\n",
        "|DayOfWeek |\tString |\tThe day of the week when the match occurred | Categorical string values (different possible)|\n"
      ]
    },
    {
      "cell_type": "markdown",
      "metadata": {},
      "source": [
        "## Sample"
      ]
    },
    {
      "cell_type": "code",
      "execution_count": 14,
      "metadata": {},
      "outputs": [
        {
          "name": "stdout",
          "output_type": "stream",
          "text": [
            "     year        country              city          stage    home_team  \\\n",
            "84   1954    Switzerland          Lausanne        Group 1       Brazil   \n",
            "37   1938         France          Toulouse    Round of 16         Cuba   \n",
            "592  2002          Japan           Saitama        Group H        Japan   \n",
            "194  1966        England        Sunderland  Quarterfinals      Hungary   \n",
            "374  1986         Mexico       Mexico City        Group A  South Korea   \n",
            "..    ...            ...               ...            ...          ...   \n",
            "859  2018         Russia  Saint Petersburg        Group E       Brazil   \n",
            "1    1930        Uruguay        Montevideo        Group 4      Belgium   \n",
            "899  2018         Russia            Moscow          Final       France   \n",
            "450  1990          Italy             Turin    Round of 16       Brazil   \n",
            "469  1994  United States           Orlando        Group F      Belgium   \n",
            "\n",
            "         away_team  home_score  away_score outcome win_conditions  \\\n",
            "84      Yugoslavia           1           1       D            NaN   \n",
            "37         Romania           3           3       D            NaN   \n",
            "592        Belgium           2           2       D            NaN   \n",
            "194   Soviet Union           1           2       A            NaN   \n",
            "374       Bulgaria           1           1       D            NaN   \n",
            "..             ...         ...         ...     ...            ...   \n",
            "859     Costa Rica           2           0       H            NaN   \n",
            "1    United States           0           3       A            NaN   \n",
            "899        Croatia           4           2       H            NaN   \n",
            "450      Argentina           0           1       A            NaN   \n",
            "469        Morocco           1           0       H            NaN   \n",
            "\n",
            "      winning_team losing_team        date month dayofweek  \n",
            "84             NaN         NaN  1954-06-19   Jun  Saturday  \n",
            "37             NaN         NaN  1938-06-05   Jun    Sunday  \n",
            "592            NaN         NaN  2002-06-04   Jun   Tuesday  \n",
            "194   Soviet Union     Hungary  1966-07-23   Jul  Saturday  \n",
            "374            NaN         NaN  1986-06-05   Jun  Thursday  \n",
            "..             ...         ...         ...   ...       ...  \n",
            "859         Brazil  Costa Rica  2018-06-22   Jun    Friday  \n",
            "1    United States     Belgium  1930-07-13   Jul    Sunday  \n",
            "899         France     Croatia  2018-07-15   Jul    Sunday  \n",
            "450      Argentina      Brazil  1990-06-24   Jun    Sunday  \n",
            "469        Belgium     Morocco  1994-06-19   Jun    Sunday  \n",
            "\n",
            "[900 rows x 15 columns]\n"
          ]
        }
      ],
      "source": [
        "\n",
        "sample = df.sample(frac=1)\n",
        "print(sample);"
      ]
    },
    {
      "cell_type": "markdown",
      "metadata": {},
      "source": [
        "## Show the Min., 1st Qu., Median, Mean ,3rd Qu.,Max. for each numeric column:"
      ]
    },
    {
      "cell_type": "code",
      "execution_count": 16,
      "metadata": {},
      "outputs": [
        {
          "name": "stdout",
          "output_type": "stream",
          "text": [
            "              year  home_score  away_score\n",
            "count   900.000000  900.000000  900.000000\n",
            "mean   1986.915556    1.568889    1.262222\n",
            "std      23.150270    1.489574    1.313960\n",
            "min    1930.000000    0.000000    0.000000\n",
            "25%    1970.000000    0.000000    0.000000\n",
            "50%    1990.000000    1.000000    1.000000\n",
            "75%    2006.000000    2.000000    2.000000\n",
            "max    2018.000000   10.000000    8.000000\n"
          ]
        }
      ],
      "source": [
        "summary_stats=df.describe();\n",
        "print(summary_stats);"
      ]
    },
    {
      "cell_type": "markdown",
      "metadata": {},
      "source": [
        "- Year: The range of year is between 1930 and 2018, with an average year of 1987. Most matches occurred between 1970 and 2006, with a median year of\n",
        "1990, indicating a relatively even distribution of matches over time.\n",
        "\n",
        "- Home Score: Home team scores range from 0 to 10 goals, with an average of 1.57 goals per match. While 25% of the matches saw the home team\n",
        "scoring no goals, the median score is 1, and in 75% of the matches, the home team scored 2 or fewer goals.\n",
        "\n",
        "- Away Score: Away team scores range from 0 to 8 goals, with an average of 1.26 goals per match. Similar to home teams, 25% of the matches had away\n",
        "teams scoring no goals, and the median score is 1, with 75% of the away teams scoring 2 or fewer goals."
      ]
    },
    {
      "cell_type": "markdown",
      "metadata": {},
      "source": [
        "## Show the Variance:"
      ]
    },
    {
      "cell_type": "code",
      "execution_count": 17,
      "metadata": {},
      "outputs": [
        {
          "name": "stdout",
          "output_type": "stream",
          "text": [
            "year          535.935019\n",
            "home_score      2.218831\n",
            "away_score      1.726491\n",
            "dtype: float64\n"
          ]
        }
      ],
      "source": [
        "variance= df.var(numeric_only=True);\n",
        "print(variance);"
      ]
    },
    {
      "cell_type": "markdown",
      "metadata": {},
      "source": [
        "Show the Variance :\n",
        "Variance shows how much values spread out. High variance means more spread, while low variance means values are closer to the average. So, our\n",
        "variance results show:\n",
        "\n",
        "\n",
        "Year: The high variance shows significant spread in match years, which is expected due to the wide range [1930-2018]\n",
        "\n",
        "home score:The variance is relatively low which means there isn't much variation in the scores of the home teams\n",
        "\n",
        "Away_score: The variance is also low, indicating that there is little variation in the scores of the away teams"
      ]
    },
    {
      "cell_type": "markdown",
      "metadata": {},
      "source": [
        "## Graphs:"
      ]
    },
    {
      "cell_type": "markdown",
      "metadata": {},
      "source": [
        "### Understanding the data through graph representations:"
      ]
    },
    {
      "cell_type": "markdown",
      "metadata": {},
      "source": [
        "To understand the relationship between match outcomes and all available attributes, particularly how they are associated with predicting match results and team performance, the focus was primarily on variables related to teams and final results. This analysis identifies whether a team won or lost, utilizing all attributes to extract relationships and infer whether an increase in a specific attribute (such as goals scored or possession) suggests a higher likelihood of winning the match.\n",
        "\n",
        "Additionally, the analysis helps determine whether performance is more influenced by factors like venue (home or away) or the ranking differences between teams. This aids in identifying key factors that impact match outcomes and discovering indicators that could assist in predicting future wins or losses."
      ]
    },
    {
      "cell_type": "markdown",
      "metadata": {},
      "source": [
        "///"
      ]
    },
    {
      "cell_type": "markdown",
      "metadata": {},
      "source": [
        "## Data Preprocessing:"
      ]
    },
    {
      "cell_type": "markdown",
      "metadata": {},
      "source": [
        "### Data Cleaning:"
      ]
    },
    {
      "cell_type": "markdown",
      "metadata": {},
      "source": [
        "#### 1-Remove duplicates:"
      ]
    },
    {
      "cell_type": "markdown",
      "metadata": {},
      "source": [
        "##### First, we count the number of duplicates rows, and then we remove them:"
      ]
    },
    {
      "cell_type": "code",
      "execution_count": 18,
      "metadata": {},
      "outputs": [
        {
          "name": "stdout",
          "output_type": "stream",
          "text": [
            "Number of duplicate rows: 0\n",
            "DataFrame after dropping all duplicate rows:\n",
            "     year  country              city          stage  home_team      away_team  \\\n",
            "0    1930  Uruguay        Montevideo        Group 1     France         Mexico   \n",
            "1    1930  Uruguay        Montevideo        Group 4    Belgium  United States   \n",
            "2    1930  Uruguay        Montevideo        Group 2     Brazil     Yugoslavia   \n",
            "3    1930  Uruguay        Montevideo        Group 3       Peru        Romania   \n",
            "4    1930  Uruguay        Montevideo        Group 1  Argentina         France   \n",
            "..    ...      ...               ...            ...        ...            ...   \n",
            "895  2018   Russia             Sochi  Quarterfinals     Russia        Croatia   \n",
            "896  2018   Russia  Saint Petersburg     Semifinals     France        Belgium   \n",
            "897  2018   Russia            Moscow     Semifinals    Croatia        England   \n",
            "898  2018   Russia  Saint Petersburg    Third place    Belgium        England   \n",
            "899  2018   Russia            Moscow          Final     France        Croatia   \n",
            "\n",
            "     home_score  away_score outcome                    win_conditions  \\\n",
            "0             4           1       H                               NaN   \n",
            "1             0           3       A                               NaN   \n",
            "2             1           2       A                               NaN   \n",
            "3             1           3       A                               NaN   \n",
            "4             1           0       H                               NaN   \n",
            "..          ...         ...     ...                               ...   \n",
            "895           2           2       A  Croatia won in penalties (4 - 3)   \n",
            "896           1           0       H                               NaN   \n",
            "897           2           1       H                Croatia won in AET   \n",
            "898           2           0       H                               NaN   \n",
            "899           4           2       H                               NaN   \n",
            "\n",
            "      winning_team losing_team        date month  dayofweek  \n",
            "0           France      Mexico  1930-07-13   Jul     Sunday  \n",
            "1    United States     Belgium  1930-07-13   Jul     Sunday  \n",
            "2       Yugoslavia      Brazil  1930-07-14   Jul     Monday  \n",
            "3          Romania        Peru  1930-07-14   Jul     Monday  \n",
            "4        Argentina      France  1930-07-15   Jul    Tuesday  \n",
            "..             ...         ...         ...   ...        ...  \n",
            "895        Croatia      Russia  2018-07-07   Jul   Saturday  \n",
            "896         France     Belgium  2018-07-10   Jul    Tuesday  \n",
            "897        Croatia     England  2018-07-11   Jul  Wednesday  \n",
            "898        Belgium     England  2018-07-14   Jul   Saturday  \n",
            "899         France     Croatia  2018-07-15   Jul     Sunday  \n",
            "\n",
            "[900 rows x 15 columns]\n"
          ]
        }
      ],
      "source": [
        "import pandas as pd\n",
        "data = pd.read_csv('Dataset/wcmatches.csv')\n",
        "num_duplicates = data.duplicated().sum()\n",
        "data_cleaned = data.drop_duplicates()\n",
        "print(\"Number of duplicate rows:\", num_duplicates)\n",
        "print(\"DataFrame after dropping all duplicate rows:\")\n",
        "print(data_cleaned)\n",
        "data_cleaned.to_csv('Cleaned_dataset.csv', index=False)"
      ]
    },
    {
      "cell_type": "markdown",
      "metadata": {},
      "source": [
        "This shows that our dataset has no duplicate rows, so the total number of rows remains unchanged at 900."
      ]
    },
    {
      "cell_type": "markdown",
      "metadata": {},
      "source": [
        "#### 2-Handling Missing Values: "
      ]
    },
    {
      "cell_type": "markdown",
      "metadata": {},
      "source": [
        "##### First, we calculate the number of missing values in our dataset:"
      ]
    },
    {
      "cell_type": "code",
      "execution_count": 19,
      "metadata": {},
      "outputs": [
        {
          "name": "stdout",
          "output_type": "stream",
          "text": [
            "     year       country            city          stage         home_team  \\\n",
            "229  1970        Mexico     Mexico City     Semifinals      West Germany   \n",
            "650  2006       Germany       Nuremberg        Group D            Mexico   \n",
            "430  1990         Italy           Turin        Group C            Brazil   \n",
            "96   1954   Switzerland          Geneva  Quarterfinals      West Germany   \n",
            "5    1930       Uruguay      Montevideo        Group 1             Chile   \n",
            "848  2018        Russia           Sochi        Group G           Belgium   \n",
            "460  1990         Italy          Naples     Semifinals             Italy   \n",
            "381  1986        Mexico  Nezahualcóyotl        Group E           Denmark   \n",
            "771  2010  South Africa    Johannesburg          Final       Netherlands   \n",
            "177  1966       England   Middlesbrough        Group 4             Chile   \n",
            "799  2014        Brazil       Fortaleza        Group G           Germany   \n",
            "397  1986        Mexico            León    Round of 16      Soviet Union   \n",
            "282  1978     Argentina    Buenos Aires        Group 3           Austria   \n",
            "234  1974       Germany         Hamburg        Group 1      East Germany   \n",
            "393  1986        Mexico     Guadalajara        Group D  Northern Ireland   \n",
            "164  1962         Chile        Santiago     Semifinals             Chile   \n",
            "810  2014        Brazil           Natal        Group D             Italy   \n",
            "155  1962         Chile           Arica        Group 1      Soviet Union   \n",
            "862  2018        Russia          Moscow        Group G           Belgium   \n",
            "745  2010  South Africa    Johannesburg        Group D             Ghana   \n",
            "\n",
            "       away_team  home_score  away_score outcome  \\\n",
            "229        Italy           3           4       A   \n",
            "650         Iran           3           1       H   \n",
            "430   Costa Rica           1           0       H   \n",
            "96    Yugoslavia           2           0       H   \n",
            "5         Mexico           3           0       H   \n",
            "848       Panama           3           0       H   \n",
            "460    Argentina           1           1       A   \n",
            "381      Uruguay           6           1       H   \n",
            "771        Spain           0           1       A   \n",
            "177  North Korea           1           1       D   \n",
            "799        Ghana           2           2       D   \n",
            "397      Belgium           3           4       A   \n",
            "282       Sweden           1           0       H   \n",
            "234    Australia           2           0       H   \n",
            "393       Brazil           0           3       A   \n",
            "164       Brazil           2           4       A   \n",
            "810      Uruguay           0           1       A   \n",
            "155      Uruguay           2           1       H   \n",
            "862      Tunisia           5           2       H   \n",
            "745      Germany           0           1       A   \n",
            "\n",
            "                         win_conditions  winning_team       losing_team  \\\n",
            "229                    Italy won in AET         Italy      West Germany   \n",
            "650                                 NaN        Mexico              Iran   \n",
            "430                                 NaN        Brazil        Costa Rica   \n",
            "96                                  NaN  West Germany        Yugoslavia   \n",
            "5                                   NaN         Chile            Mexico   \n",
            "848                                 NaN       Belgium            Panama   \n",
            "460  Argentina won in penalties (4 - 3)     Argentina             Italy   \n",
            "381                                 NaN       Denmark           Uruguay   \n",
            "771                    Spain won in AET         Spain       Netherlands   \n",
            "177                                 NaN           NaN               NaN   \n",
            "799                                 NaN           NaN               NaN   \n",
            "397                  Belgium won in AET       Belgium      Soviet Union   \n",
            "282                                 NaN       Austria            Sweden   \n",
            "234                                 NaN  East Germany         Australia   \n",
            "393                                 NaN        Brazil  Northern Ireland   \n",
            "164                                 NaN        Brazil             Chile   \n",
            "810                                 NaN       Uruguay             Italy   \n",
            "155                                 NaN  Soviet Union           Uruguay   \n",
            "862                                 NaN       Belgium           Tunisia   \n",
            "745                                 NaN       Germany             Ghana   \n",
            "\n",
            "           date month  dayofweek  \n",
            "229  1970-06-17   Jun  Wednesday  \n",
            "650  2006-06-11   Jun     Sunday  \n",
            "430  1990-06-16   Jun   Saturday  \n",
            "96   1954-06-27   Jun     Sunday  \n",
            "5    1930-07-16   Jul  Wednesday  \n",
            "848  2018-06-18   Jun     Monday  \n",
            "460  1990-07-03   Jul    Tuesday  \n",
            "381  1986-06-08   Jun     Sunday  \n",
            "771  2010-07-11   Jul     Sunday  \n",
            "177  1966-07-15   Jul     Friday  \n",
            "799  2014-06-21   Jun   Saturday  \n",
            "397  1986-06-15   Jun     Sunday  \n",
            "282  1978-06-07   Jun  Wednesday  \n",
            "234  1974-06-14   Jun     Friday  \n",
            "393  1986-06-12   Jun   Thursday  \n",
            "164  1962-06-13   Jun  Wednesday  \n",
            "810  2014-06-24   Jun    Tuesday  \n",
            "155  1962-06-06   Jun  Wednesday  \n",
            "862  2018-06-23   Jun   Saturday  \n",
            "745  2010-06-23   Jun  Wednesday  \n",
            "Missing values in each column:\n",
            "year                0\n",
            "country             0\n",
            "city                0\n",
            "stage               0\n",
            "home_team           0\n",
            "away_team           0\n",
            "home_score          0\n",
            "away_score          0\n",
            "outcome             0\n",
            "win_conditions    838\n",
            "winning_team      169\n",
            "losing_team       169\n",
            "date                0\n",
            "month               0\n",
            "dayofweek           0\n",
            "dtype: int64\n",
            "\n",
            "Rows with missing values:\n",
            "     year  country              city          stage  home_team      away_team  \\\n",
            "0    1930  Uruguay        Montevideo        Group 1     France         Mexico   \n",
            "1    1930  Uruguay        Montevideo        Group 4    Belgium  United States   \n",
            "2    1930  Uruguay        Montevideo        Group 2     Brazil     Yugoslavia   \n",
            "3    1930  Uruguay        Montevideo        Group 3       Peru        Romania   \n",
            "4    1930  Uruguay        Montevideo        Group 1  Argentina         France   \n",
            "..    ...      ...               ...            ...        ...            ...   \n",
            "893  2018   Russia             Kazan  Quarterfinals     Brazil        Belgium   \n",
            "894  2018   Russia            Samara  Quarterfinals     Sweden        England   \n",
            "896  2018   Russia  Saint Petersburg     Semifinals     France        Belgium   \n",
            "898  2018   Russia  Saint Petersburg    Third place    Belgium        England   \n",
            "899  2018   Russia            Moscow          Final     France        Croatia   \n",
            "\n",
            "     home_score  away_score outcome win_conditions   winning_team losing_team  \\\n",
            "0             4           1       H            NaN         France      Mexico   \n",
            "1             0           3       A            NaN  United States     Belgium   \n",
            "2             1           2       A            NaN     Yugoslavia      Brazil   \n",
            "3             1           3       A            NaN        Romania        Peru   \n",
            "4             1           0       H            NaN      Argentina      France   \n",
            "..          ...         ...     ...            ...            ...         ...   \n",
            "893           1           2       A            NaN        Belgium      Brazil   \n",
            "894           0           2       A            NaN        England      Sweden   \n",
            "896           1           0       H            NaN         France     Belgium   \n",
            "898           2           0       H            NaN        Belgium     England   \n",
            "899           4           2       H            NaN         France     Croatia   \n",
            "\n",
            "           date month dayofweek  \n",
            "0    1930-07-13   Jul    Sunday  \n",
            "1    1930-07-13   Jul    Sunday  \n",
            "2    1930-07-14   Jul    Monday  \n",
            "3    1930-07-14   Jul    Monday  \n",
            "4    1930-07-15   Jul   Tuesday  \n",
            "..          ...   ...       ...  \n",
            "893  2018-07-06   Jul    Friday  \n",
            "894  2018-07-07   Jul  Saturday  \n",
            "896  2018-07-10   Jul   Tuesday  \n",
            "898  2018-07-14   Jul  Saturday  \n",
            "899  2018-07-15   Jul    Sunday  \n",
            "\n",
            "[838 rows x 15 columns]\n"
          ]
        }
      ],
      "source": [
        "import pandas as pd\n",
        "data = pd.read_csv('Cleaned_dataset.csv');\n",
        "sample=data.sample(n=20);\n",
        "print(sample);\n",
        "missing_values = data.isna()\n",
        "missing_counts = missing_values.sum();\n",
        "rows_with_missing = data[data.isna().any(axis=1)];\n",
        "\n",
        "print(\"Missing values in each column:\");\n",
        "print(missing_counts);\n",
        "print(\"\\nRows with missing values:\");\n",
        "print(rows_with_missing);"
      ]
    },
    {
      "cell_type": "markdown",
      "metadata": {},
      "source": [
        "This shows that our dataset has missing values in multiple columns: 838 in the 'win_conditions' column, 169 in the 'winning_team' column, and 169 in the 'losing_team' column."
      ]
    },
    {
      "cell_type": "markdown",
      "metadata": {},
      "source": [
        "##### Secondly, we handle these missing values by calculating the mode value for the target columns ['win_conditions', 'winning_team', 'losing_team'], and then we replace the missing values with the mode."
      ]
    },
    {
      "cell_type": "code",
      "execution_count": 20,
      "metadata": {},
      "outputs": [
        {
          "name": "stdout",
          "output_type": "stream",
          "text": [
            "Missing values after filling:\n",
            "year              0\n",
            "country           0\n",
            "city              0\n",
            "stage             0\n",
            "home_team         0\n",
            "away_team         0\n",
            "home_score        0\n",
            "away_score        0\n",
            "outcome           0\n",
            "win_conditions    0\n",
            "winning_team      0\n",
            "losing_team       0\n",
            "date              0\n",
            "month             0\n",
            "dayofweek         0\n",
            "dtype: int64\n"
          ]
        }
      ],
      "source": [
        "import pandas as pd\n",
        "\n",
        "data = pd.read_csv('Cleaned_dataset.csv')\n",
        "\n",
        "data.columns = data.columns.str.strip()\n",
        "\n",
        "\n",
        "for column in ['win_conditions', 'winning_team', 'losing_team']:\n",
        "    modal_value = data[column].mode()[0]  \n",
        "    data[column] = data[column].fillna(value=modal_value)  \n",
        "\n",
        "print(\"Missing values after filling:\")\n",
        "print(data.isnull().sum())\n",
        "\n",
        "data.to_csv('Cleaned_dataset.csv', index=False)\n",
        "\n"
      ]
    },
    {
      "cell_type": "markdown",
      "metadata": {},
      "source": [
        "and Here, the output shows that we handled all the missing values."
      ]
    },
    {
      "cell_type": "markdown",
      "metadata": {},
      "source": [
        "#### 3-Handling Outliers:"
      ]
    },
    {
      "cell_type": "markdown",
      "metadata": {},
      "source": [
        "##### Before we handle our outliers we did choose the IQR method Based on our dataset to identify how many outliers in our dataset."
      ]
    },
    {
      "cell_type": "code",
      "execution_count": 21,
      "metadata": {},
      "outputs": [
        {
          "name": "stdout",
          "output_type": "stream",
          "text": [
            "Outlier Counts:\n",
            "year: 0 rows with outliers\n",
            "home_score: 24 rows with outliers\n",
            "away_score: 11 rows with outliers\n",
            "Total Rows with Outliers: 35\n"
          ]
        }
      ],
      "source": [
        "import pandas as pd\n",
        "data = pd.read_csv('Cleaned_dataset.csv')\n",
        "import numpy as np\n",
        "outlier_threshold = 1.5\n",
        "\n",
        "def count_outliers(column_data):\n",
        "    q1 = np.percentile(column_data, 25)\n",
        "    q3 = np.percentile(column_data, 75)\n",
        "    iqr = q3 - q1\n",
        "    upper_bound = q3 + outlier_threshold * iqr\n",
        "    lower_bound = q1 - outlier_threshold * iqr\n",
        "    outliers = (column_data > upper_bound) | (column_data < lower_bound)\n",
        "    return sum(outliers)\n",
        "\n",
        "numeric_columns = data.select_dtypes(include=[np.number]).columns\n",
        "\n",
        "outlier_counts = {}\n",
        "total_rows_with_outliers = 0\n",
        "\n",
        "for column in numeric_columns:\n",
        "    outliers = count_outliers(data[column])\n",
        "    outlier_counts[column] = outliers\n",
        "    total_rows_with_outliers += outliers\n",
        "\n",
        "total_rows = len(data)\n",
        "\n",
        "print(\"Outlier Counts:\")\n",
        "for column, count in outlier_counts.items():\n",
        "    print(f\"{column}: {count} rows with outliers\")\n",
        "\n",
        "print(f\"Total Rows with Outliers: {total_rows_with_outliers}\")"
      ]
    },
    {
      "cell_type": "markdown",
      "metadata": {},
      "source": [
        "The analysis of our dataset revealed that a total of 35 rows contain outliers, which is a small proportion compared to the overall dataset of 900 rows. Specifically, there are 0 rows with outliers in the 'year' column, 24 rows in the 'home_score' column, and 11 rows in the 'away_score' column. Although this represents a limited number of outliers, their presence indicates some extreme values that deviate from the majority of the data. To address this issue, we have decided to adopt a strategy of capping the outliers. Rather than removing these data points entirely, we opted to replace them with the nearest non-outlier values. This approach allows us to retain the entirety of our dataset while mitigating the impact of these extreme values on our subsequent analyses. By capping the outliers and maintaining the remaining data, we aim to preserve the integrity of the dataset and avoid the potential loss of valuable information that would occur through outright removal of the outliers. This ensures that our analysis incorporates as much relevant information as possible while still accounting for the presence of extreme observations"
      ]
    },
    {
      "cell_type": "markdown",
      "metadata": {},
      "source": [
        "##### Handling Outliers:"
      ]
    },
    {
      "cell_type": "code",
      "execution_count": 22,
      "metadata": {},
      "outputs": [],
      "source": [
        "import pandas as pd\n",
        "import numpy as np\n",
        "\n",
        "data = pd.read_csv('Cleaned_dataset.csv')\n",
        "\n",
        "outlier_threshold = 1.5\n",
        "\n",
        "def count_outliers(column_data):\n",
        "    q1 = np.percentile(column_data, 25)\n",
        "    q3 = np.percentile(column_data, 75)\n",
        "    iqr = q3 - q1\n",
        "    upper_bound = q3 + outlier_threshold * iqr\n",
        "    lower_bound = q1 - outlier_threshold * iqr\n",
        "    outliers = (column_data > upper_bound) | (column_data < lower_bound)\n",
        "    return sum(outliers)\n",
        "\n",
        "numeric_columns = data.select_dtypes(include=[np.number]).columns\n",
        "\n",
        "outlier_counts = {}\n",
        "total_rows = len(data)\n",
        "\n",
        "for column in numeric_columns:\n",
        "    outliers = count_outliers(data[column])\n",
        "    outlier_counts[column] = outliers\n",
        "    \n",
        "    q1 = np.percentile(data[column], 25)\n",
        "    q3 = np.percentile(data[column], 75)\n",
        "    iqr = q3 - q1\n",
        "    upper_bound = q3 + outlier_threshold * iqr\n",
        "    lower_bound = q1 - outlier_threshold * iqr\n",
        "    data[column] = np.clip(data[column], lower_bound, upper_bound)\n",
        "\n",
        "data.to_csv('Cleaned_dataset.csv', index=False)\n"
      ]
    },
    {
      "cell_type": "markdown",
      "metadata": {},
      "source": [
        "##### Checking the results by counting outliers after handling them."
      ]
    },
    {
      "cell_type": "code",
      "execution_count": 23,
      "metadata": {},
      "outputs": [
        {
          "name": "stdout",
          "output_type": "stream",
          "text": [
            "Outlier Counts:\n",
            "year: 0 rows with outliers\n",
            "home_score: 0 rows with outliers\n",
            "away_score: 0 rows with outliers\n",
            "Total Rows with Outliers: 0\n"
          ]
        }
      ],
      "source": [
        "import pandas as pd\n",
        "import numpy as np\n",
        "\n",
        "data1 = pd.read_csv('Cleaned_dataset.csv')\n",
        "\n",
        "outlier_threshold = 1.5\n",
        "\n",
        "def count_outliers(column_data1):\n",
        "    q1 = np.percentile(column_data1, 25)\n",
        "    q3 = np.percentile(column_data1, 75)\n",
        "    iqr = q3 - q1\n",
        "    upper_bound = q3 + outlier_threshold * iqr\n",
        "    lower_bound = q1 - outlier_threshold * iqr\n",
        "    outliers = (column_data1 > upper_bound) | (column_data1 < lower_bound)\n",
        "    return sum(outliers)\n",
        "\n",
        "\n",
        "numeric_columns = data1.select_dtypes(include=[np.number]).columns\n",
        "\n",
        "\n",
        "outlier_counts = {}\n",
        "total_rows_with_outliers = 0\n",
        "\n",
        "\n",
        "for column in numeric_columns:\n",
        "    outliers = count_outliers(data1[column])\n",
        "    outlier_counts[column] = outliers\n",
        "    total_rows_with_outliers += outliers\n",
        "\n",
        "total_rows = len(data1)\n",
        "\n",
        "print(\"Outlier Counts:\")\n",
        "for column, count in outlier_counts.items():\n",
        "    print(f\"{column}: {count} rows with outliers\")\n",
        "\n",
        "print(f\"Total Rows with Outliers: {total_rows_with_outliers}\")\n"
      ]
    },
    {
      "cell_type": "markdown",
      "metadata": {},
      "source": [
        "### Data Transmission"
      ]
    },
    {
      "cell_type": "markdown",
      "metadata": {},
      "source": [
        "#### 1-Encoding"
      ]
    },
    {
      "cell_type": "code",
      "execution_count": 1,
      "metadata": {},
      "outputs": [
        {
          "name": "stdout",
          "output_type": "stream",
          "text": [
            "Encoded DataFrame\n",
            "   year  country  city  stage  home_team  away_team  home_score  away_score  \\\n",
            "0  1930       16    83      3         27         42           4           1   \n",
            "1  1930       16    83      6          5         76           0           3   \n",
            "2  1930       16    83      4          8         80           1           2   \n",
            "3  1930       16    83      5         52         56           1           3   \n",
            "4  1930       16    83      3          2         27           1           0   \n",
            "\n",
            "  outcome    win_conditions  winning_team  losing_team        date  month  \\\n",
            "0       H  Italy won in AET            21           45  1930-07-13      0   \n",
            "1       A  Italy won in AET            61            5  1930-07-13      0   \n",
            "2       A  Italy won in AET            65            8  1930-07-14      0   \n",
            "3       A  Italy won in AET            44           55  1930-07-14      0   \n",
            "4       H  Italy won in AET             1           29  1930-07-15      0   \n",
            "\n",
            "   dayofweek  \n",
            "0          3  \n",
            "1          3  \n",
            "2          1  \n",
            "3          1  \n",
            "4          5  \n"
          ]
        }
      ],
      "source": [
        "import pandas as pd\n",
        "from sklearn.preprocessing import LabelEncoder\n",
        "\n",
        "data1 = pd.read_csv('Cleaned_dataset.csv')\n",
        "\n",
        "le = LabelEncoder()\n",
        "data1['country'] = le.fit_transform(data1['country'])\n",
        "data1['city'] = le.fit_transform(data1['city'])\n",
        "data1['stage'] = le.fit_transform(data1['stage'])\n",
        "data1['dayofweek'] = le.fit_transform(data1['dayofweek'])\n",
        "data1['month'] = le.fit_transform(data1['month'])\n",
        "data1['home_team'] = le.fit_transform(data1['home_team'])\n",
        "data1['away_team'] = le.fit_transform(data1['away_team'])\n",
        "data1['losing_team'] = le.fit_transform(data1['losing_team'])\n",
        "data1['winning_team'] = le.fit_transform(data1['winning_team'])\n",
        "\n",
        "print('Encoded DataFrame')\n",
        "print(data1.head())"
      ]
    },
    {
      "cell_type": "markdown",
      "metadata": {},
      "source": [
        "several nominal attributes have been encoded using the LabelEncoder. These attributes include country, city, stage, dayofweek, and month, home_team, away_team, losing_team, and winning_team. Each of these columns has been transformed from its original categorical form into a numerical format. For instances cities being numbered '83' to perform analysis"
      ]
    },
    {
      "cell_type": "markdown",
      "metadata": {},
      "source": [
        "#### 2-Normalization"
      ]
    },
    {
      "cell_type": "code",
      "execution_count": 3,
      "metadata": {},
      "outputs": [
        {
          "name": "stdout",
          "output_type": "stream",
          "text": [
            "DataFrame after Decimal Scaling Normalization:\n",
            "   year  country        city    stage  home_team      away_team  home_score  \\\n",
            "0  1930  Uruguay  Montevideo  Group 1     France         Mexico         0.4   \n",
            "1  1930  Uruguay  Montevideo  Group 4    Belgium  United States         0.0   \n",
            "2  1930  Uruguay  Montevideo  Group 2     Brazil     Yugoslavia         0.1   \n",
            "3  1930  Uruguay  Montevideo  Group 3       Peru        Romania         0.1   \n",
            "4  1930  Uruguay  Montevideo  Group 1  Argentina         France         0.1   \n",
            "\n",
            "   away_score outcome    win_conditions   winning_team losing_team  \\\n",
            "0         0.1       H  Italy won in AET         France      Mexico   \n",
            "1         0.3       A  Italy won in AET  United States     Belgium   \n",
            "2         0.2       A  Italy won in AET     Yugoslavia      Brazil   \n",
            "3         0.3       A  Italy won in AET        Romania        Peru   \n",
            "4         0.0       H  Italy won in AET      Argentina      France   \n",
            "\n",
            "         date month dayofweek  \n",
            "0  1930-07-13   Jul    Sunday  \n",
            "1  1930-07-13   Jul    Sunday  \n",
            "2  1930-07-14   Jul    Monday  \n",
            "3  1930-07-14   Jul    Monday  \n",
            "4  1930-07-15   Jul   Tuesday  \n"
          ]
        }
      ],
      "source": [
        "import pandas as pd\n",
        "data1 = pd.read_csv('Cleaned_dataset.csv')\n",
        "\n",
        "columns_to_normalize = ['home_score', 'away_score']\n",
        "\n",
        "for column in columns_to_normalize:\n",
        "    max_abs_value = data1[column].abs().max()\n",
        "    data1[column] = data1[column] / (10 ** len(str(int(max_abs_value))))\n",
        "\n",
        "\n",
        "print(\"DataFrame after Decimal Scaling Normalization:\")\n",
        "print(data1.head())"
      ]
    },
    {
      "cell_type": "markdown",
      "metadata": {},
      "source": [
        "Home and away scored have been normalized using decimal scaling to  become values between [0,1]"
      ]
    },
    {
      "cell_type": "markdown",
      "metadata": {},
      "source": [
        "#### 3-Aggregation"
      ]
    },
    {
      "cell_type": "code",
      "execution_count": 7,
      "metadata": {},
      "outputs": [
        {
          "name": "stdout",
          "output_type": "stream",
          "text": [
            "Country Stats:\n",
            "          country  home_score_mean  away_score_mean  total_wins\n",
            "0       Argentina         1.421053         1.210526          13\n",
            "1          Brazil         1.441860         1.476744          20\n",
            "2           Chile         1.406250         1.343750          10\n",
            "3         England         1.437500         1.343750           6\n",
            "4          France         1.756098         1.280488          27\n",
            "5         Germany         1.382353         0.941176          28\n",
            "6           Italy         1.478261         1.173913          12\n",
            "7           Japan         1.125000         1.000000          12\n",
            "8          Mexico         1.476190         1.202381          26\n",
            "9          Russia         1.359375         1.265625          12\n",
            "10   South Africa         1.171875         1.062500          17\n",
            "11    South Korea         1.625000         1.187500           9\n",
            "12          Spain         1.730769         0.980769          20\n",
            "13         Sweden         1.914286         1.571429          15\n",
            "14    Switzerland         2.500000         2.269231           5\n",
            "15  United States         1.557692         1.134615          14\n",
            "16        Uruguay         2.111111         1.611111           4\n"
          ]
        }
      ],
      "source": [
        "import pandas as pd\n",
        "data1 = pd.read_csv('Cleaned_dataset.csv')\n",
        "\n",
        "country_stats = data1.groupby('country').agg(\n",
        "    home_score_mean=('home_score', 'mean'),\n",
        "    away_score_mean=('away_score', 'mean'),\n",
        "    total_wins=('winning_team', lambda x: (x == x.mode()[0]).sum())  \n",
        ").reset_index()\n",
        "\n",
        "print(\"Country Stats:\")\n",
        "print(country_stats)"
      ]
    },
    {
      "cell_type": "markdown",
      "metadata": {},
      "source": [
        "The aggregation summarizes match data by country, calculating the average home and away team scores, as well as counting the number of wins for the most frequent winning team in each country."
      ]
    },
    {
      "cell_type": "markdown",
      "metadata": {},
      "source": [
        "#### 4-Discretization"
      ]
    },
    {
      "cell_type": "code",
      "execution_count": 9,
      "metadata": {},
      "outputs": [
        {
          "name": "stdout",
          "output_type": "stream",
          "text": [
            "   year  country        city    stage  home_team      away_team  home_score  \\\n",
            "0  1930  Uruguay  Montevideo  Group 1     France         Mexico           4   \n",
            "1  1930  Uruguay  Montevideo  Group 4    Belgium  United States           0   \n",
            "2  1930  Uruguay  Montevideo  Group 2     Brazil     Yugoslavia           1   \n",
            "3  1930  Uruguay  Montevideo  Group 3       Peru        Romania           1   \n",
            "4  1930  Uruguay  Montevideo  Group 1  Argentina         France           1   \n",
            "\n",
            "   away_score outcome    win_conditions   winning_team losing_team       date  \\\n",
            "0           1       H  Italy won in AET         France      Mexico 1930-07-13   \n",
            "1           3       A  Italy won in AET  United States     Belgium 1930-07-13   \n",
            "2           2       A  Italy won in AET     Yugoslavia      Brazil 1930-07-14   \n",
            "3           3       A  Italy won in AET        Romania        Peru 1930-07-14   \n",
            "4           0       H  Italy won in AET      Argentina      France 1930-07-15   \n",
            "\n",
            "  month dayofweek Year_Decade Month  \n",
            "0   Jul    Sunday       1930s  July  \n",
            "1   Jul    Sunday       1930s  July  \n",
            "2   Jul    Monday       1930s  July  \n",
            "3   Jul    Monday       1930s  July  \n",
            "4   Jul   Tuesday       1930s  July  \n"
          ]
        }
      ],
      "source": [
        "import pandas as pd\n",
        "data1 = pd.read_csv('Cleaned_dataset.csv')\n",
        "\n",
        "year_labels = [\"1930s\", \"1940s\", \"1950s\", \"1960s\", \"1970s\", \"1980s\", \"1990s\", \"2000s\", \"2010s\",]\n",
        "year_bins = [1929, 1939, 1949, 1959, 1969, 1979, 1989, 1999, 2009, 2019,]\n",
        "\n",
        "data1[\"Year_Decade\"] = pd.cut(data1[\"year\"], bins=year_bins, labels=year_labels, right=False)\n",
        "data1['date'] = pd.to_datetime(data1['date'])\n",
        "data1['Month'] = data1['date'].dt.month_name()\n",
        "\n",
        "print(data1.head())"
      ]
    },
    {
      "cell_type": "markdown",
      "metadata": {},
      "source": [
        "discretizes the \"year\" column into decades by categorizing it into decade ranges, assigns each entry a decade label, converts the \"date\" column to a datetime format, and extracts the month name from the date into a new \"Month\" column"
      ]
    },
    {
      "cell_type": "markdown",
      "metadata": {},
      "source": [
        "## Feature Selection:"
      ]
    },
    {
      "cell_type": "markdown",
      "metadata": {},
      "source": [
        "- Correlation Coefficient:"
      ]
    },
    {
      "cell_type": "markdown",
      "metadata": {},
      "source": [
        "- Chi squared:"
      ]
    },
    {
      "cell_type": "markdown",
      "metadata": {},
      "source": [
        "- Drop Out Highly Correlated Attributes:"
      ]
    }
  ],
  "metadata": {
    "kernelspec": {
      "display_name": "Python 3",
      "language": "python",
      "name": "python3"
    },
    "language_info": {
      "codemirror_mode": {
        "name": "ipython",
        "version": 3
      },
      "file_extension": ".py",
      "mimetype": "text/x-python",
      "name": "python",
      "nbconvert_exporter": "python",
      "pygments_lexer": "ipython3",
      "version": "3.12.1"
    }
  },
  "nbformat": 4,
  "nbformat_minor": 4
}
