{
  "cells": [
    {
      "cell_type": "markdown",
      "metadata": {},
      "source": [
        "#Phase1:"
      ]
    },
    {
      "cell_type": "markdown",
      "metadata": {},
      "source": [
        "##Goal of Collecting Dataset:\n",
        "\n",
        "The primary goal of analyzing this dataset is to:\n",
        "\n",
        "Performance Analysis: Assess team and player performances by examining various metrics such as goals, assists, and other key statistics.\n",
        "\n",
        "Outcome Prediction: Develop models to predict match outcomes or player performances based on historical data.\n",
        "\n",
        "Trend Identification: Discover trends and patterns in match results, player statistics, and team strategies.\n",
        "\n",
        "We will achieve this by clustering data and classifying it using machine learning techniques acquired during the course."
      ]
    },
    {
      "cell_type": "markdown",
      "metadata": {},
      "source": [
        "##Source of Dataset:\n",
        "Kaggle Platform Dataset link: https://www.kaggle.com/datasets/evangower/fifa-world-cup"
      ]
    },
    {
      "cell_type": "markdown",
      "metadata": {},
      "source": [
        "##General Information about the Dataset:\n",
        "\n",
        "Number of Attributes:15\n",
        "\n",
        "Number of Objects:900 (Match)\n",
        "\n",
        "Class Name/Labels: outcome\n"
      ]
    },
    {
      "cell_type": "code",
      "execution_count": 2,
      "metadata": {},
      "outputs": [
        {
          "name": "stdout",
          "output_type": "stream",
          "text": [
            "<class 'pandas.core.frame.DataFrame'>\n",
            "RangeIndex: 900 entries, 0 to 899\n",
            "Data columns (total 15 columns):\n",
            " #   Column          Non-Null Count  Dtype \n",
            "---  ------          --------------  ----- \n",
            " 0   year            900 non-null    int64 \n",
            " 1   country         900 non-null    object\n",
            " 2   city            900 non-null    object\n",
            " 3   stage           900 non-null    object\n",
            " 4   home_team       900 non-null    object\n",
            " 5   away_team       900 non-null    object\n",
            " 6   home_score      900 non-null    int64 \n",
            " 7   away_score      900 non-null    int64 \n",
            " 8   outcome         900 non-null    object\n",
            " 9   win_conditions  62 non-null     object\n",
            " 10  winning_team    731 non-null    object\n",
            " 11  losing_team     731 non-null    object\n",
            " 12  date            900 non-null    object\n",
            " 13  month           900 non-null    object\n",
            " 14  dayofweek       900 non-null    object\n",
            "dtypes: int64(3), object(12)\n",
            "memory usage: 105.6+ KB\n",
            "None\n",
            "Number of rows: 900\n"
          ]
        }
      ],
      "source": [
        "\n",
        "import pandas as pd\n",
        "\n",
        "df = pd.read_csv('Dataset/wcmatches.csv')\n",
        "\n",
        "print(df.info())\n",
        "\n",
        "num_row = len(df)\n",
        "print(\"Number of rows:\", num_row)\n"
      ]
    },
    {
      "cell_type": "markdown",
      "metadata": {},
      "source": [
        "------------------------------------------------------"
      ]
    },
    {
      "cell_type": "markdown",
      "metadata": {},
      "source": [
        "#Phase2:"
      ]
    },
    {
      "cell_type": "markdown",
      "metadata": {},
      "source": [
        "| Attributes Name | Data type | Description | Possible Values |\n",
        "|----------|----------|----------|----------|\n",
        "|Year |\tInteger| The year of the match |\tAny year (e.g., 1930, 1934, etc.)|\n",
        "|Country |\tString |The country hosting the World Cup |  Categorical string values (different possible)|\n",
        "|City\t| String |\tThe city where the match took place\t | Categorical string values (different possible)|\n",
        "|Stage\t| String|\tThe stage of the tournament | Categorical string values (different possible)|\n",
        "|Home Team |\tString | The team playing at home |\tCategorical string values (different possible)|\n",
        "|Away Team |\tString |\tThe team playing away |\tCategorical string values (different possible)|\n",
        "|Home Score |\tInteger\t| The score of the home team |\t0-10|\n",
        "|Away Score\t| Integer |\tThe score of the away team |\t0-8|\n",
        "|Outcome |\tString | The result of the match |\tH (Home win), A (Away win), D (Draw)|\n",
        "|Win Conditions |\tString |\tConditions under which the winning team was determined\tSpecific phrases |Categorical string values (different possible)|\n",
        "|Winning Team |\tString | The team that won the match |\tCategorical string values (different possible)|\n",
        "|Losing Team|\tString | The team that lost the match |\tCategorical string values (different possible)|\n",
        "|Date |Date |\tThe date of the match |\tDatetime |\n",
        "|Month |String\t|The month in which the match took place|Categorical string values (different possible)|\n",
        "|DayOfWeek |\tString |\tThe day of the week when the match occurred | Categorical string values (different possible)|\n"
      ]
    },
    {
      "cell_type": "markdown",
      "metadata": {},
      "source": [
        "##Sample"
      ]
    },
    {
      "cell_type": "code",
      "execution_count": 3,
      "metadata": {},
      "outputs": [
        {
          "name": "stdout",
          "output_type": "stream",
          "text": [
            "     year      country           city          stage       home_team  \\\n",
            "883  2018       Russia    Kaliningrad        Group G         England   \n",
            "224  1970       Mexico    Guadalajara  Quarterfinals          Brazil   \n",
            "58   1950       Brazil      São Paulo        Group 1          Brazil   \n",
            "334  1982        Spain         Málaga        Group 6    Soviet Union   \n",
            "449  1990        Italy           Bari    Round of 16  Czechoslovakia   \n",
            "..    ...          ...            ...            ...             ...   \n",
            "872  2018       Russia          Sochi        Group C       Australia   \n",
            "521  1998       France    Montpellier        Group D        Paraguay   \n",
            "290  1978    Argentina  Mar del Plata        Group 3         Austria   \n",
            "82   1954  Switzerland       Lausanne        Group 4     Switzerland   \n",
            "378  1986       Mexico    Mexico City        Group B          Mexico   \n",
            "\n",
            "       away_team  home_score  away_score outcome win_conditions  \\\n",
            "883      Belgium           0           1       A            NaN   \n",
            "224         Peru           4           2       H            NaN   \n",
            "58   Switzerland           2           2       D            NaN   \n",
            "334     Scotland           2           2       D            NaN   \n",
            "449   Costa Rica           4           1       H            NaN   \n",
            "..           ...         ...         ...     ...            ...   \n",
            "872         Peru           0           2       A            NaN   \n",
            "521     Bulgaria           0           0       D            NaN   \n",
            "290       Brazil           0           1       A            NaN   \n",
            "82         Italy           2           1       H            NaN   \n",
            "378     Paraguay           1           1       D            NaN   \n",
            "\n",
            "       winning_team losing_team        date month  dayofweek  \n",
            "883         Belgium     England  2018-06-28   Jun   Thursday  \n",
            "224          Brazil        Peru  1970-06-14   Jun     Sunday  \n",
            "58              NaN         NaN  1950-06-28   Jun  Wednesday  \n",
            "334             NaN         NaN  1982-06-22   Jun    Tuesday  \n",
            "449  Czechoslovakia  Costa Rica  1990-06-23   Jun   Saturday  \n",
            "..              ...         ...         ...   ...        ...  \n",
            "872            Peru   Australia  2018-06-26   Jun    Tuesday  \n",
            "521             NaN         NaN  1998-06-12   Jun     Friday  \n",
            "290          Brazil     Austria  1978-06-11   Jun     Sunday  \n",
            "82      Switzerland       Italy  1954-06-17   Jun   Thursday  \n",
            "378             NaN         NaN  1986-06-07   Jun   Saturday  \n",
            "\n",
            "[900 rows x 15 columns]\n"
          ]
        }
      ],
      "source": [
        "\n",
        "sample = df.sample(frac=1)\n",
        "print(sample);"
      ]
    },
    {
      "cell_type": "markdown",
      "metadata": {},
      "source": [
        "##Show the missing value:"
      ]
    },
    {
      "cell_type": "code",
      "execution_count": 4,
      "metadata": {},
      "outputs": [
        {
          "name": "stdout",
          "output_type": "stream",
          "text": [
            "Missing values \n",
            "year                0\n",
            "country             0\n",
            "city                0\n",
            "stage               0\n",
            "home_team           0\n",
            "away_team           0\n",
            "home_score          0\n",
            "away_score          0\n",
            "outcome             0\n",
            "win_conditions    838\n",
            "winning_team      169\n",
            "losing_team       169\n",
            "date                0\n",
            "month               0\n",
            "dayofweek           0\n",
            "dtype: int64\n",
            "The total of Missing value is :\n",
            "1176\n"
          ]
        }
      ],
      "source": [
        "missing_values = df.isnull().sum()\n",
        "print(\"Missing values \")\n",
        "print(missing_values )\n",
        "missing_counts = missing_values.sum();\n",
        "print(\"The total of Missing value is :\")\n",
        "print(missing_counts)"
      ]
    },
    {
      "cell_type": "markdown",
      "metadata": {},
      "source": [
        "##Show the Min., 1st Qu., Median, Mean ,3rd Qu.,Max. for each numeric column:"
      ]
    },
    {
      "cell_type": "markdown",
      "metadata": {},
      "source": []
    },
    {
      "cell_type": "code",
      "execution_count": 5,
      "metadata": {},
      "outputs": [
        {
          "name": "stdout",
          "output_type": "stream",
          "text": [
            "              year  home_score  away_score\n",
            "count   900.000000  900.000000  900.000000\n",
            "mean   1986.915556    1.568889    1.262222\n",
            "std      23.150270    1.489574    1.313960\n",
            "min    1930.000000    0.000000    0.000000\n",
            "25%    1970.000000    0.000000    0.000000\n",
            "50%    1990.000000    1.000000    1.000000\n",
            "75%    2006.000000    2.000000    2.000000\n",
            "max    2018.000000   10.000000    8.000000\n"
          ]
        }
      ],
      "source": [
        "summary_stats=df.describe();\n",
        "print(summary_stats);"
      ]
    },
    {
      "cell_type": "markdown",
      "metadata": {},
      "source": [
        "##Show the Variance:"
      ]
    },
    {
      "cell_type": "code",
      "execution_count": 6,
      "metadata": {},
      "outputs": [
        {
          "name": "stdout",
          "output_type": "stream",
          "text": [
            "year          535.935019\n",
            "home_score      2.218831\n",
            "away_score      1.726491\n",
            "dtype: float64\n"
          ]
        }
      ],
      "source": [
        "variance= df.var(numeric_only=True);\n",
        "print(variance);"
      ]
    },
    {
      "cell_type": "markdown",
      "metadata": {},
      "source": [
        "##Data Preprocessing:"
      ]
    },
    {
      "cell_type": "markdown",
      "metadata": {},
      "source": [
        "###Data Cleaning:"
      ]
    },
    {
      "cell_type": "markdown",
      "metadata": {},
      "source": [
        "###1-Remove duplicates:"
      ]
    },
    {
      "cell_type": "markdown",
      "metadata": {},
      "source": [
        "####First, we count the number of duplicates rows, and then we remove them:"
      ]
    },
    {
      "cell_type": "code",
      "execution_count": 7,
      "metadata": {},
      "outputs": [
        {
          "name": "stdout",
          "output_type": "stream",
          "text": [
            "Number of duplicate rows: 0\n",
            "DataFrame after dropping all duplicate rows:\n",
            "     year  country              city          stage  home_team      away_team  \\\n",
            "0    1930  Uruguay        Montevideo        Group 1     France         Mexico   \n",
            "1    1930  Uruguay        Montevideo        Group 4    Belgium  United States   \n",
            "2    1930  Uruguay        Montevideo        Group 2     Brazil     Yugoslavia   \n",
            "3    1930  Uruguay        Montevideo        Group 3       Peru        Romania   \n",
            "4    1930  Uruguay        Montevideo        Group 1  Argentina         France   \n",
            "..    ...      ...               ...            ...        ...            ...   \n",
            "895  2018   Russia             Sochi  Quarterfinals     Russia        Croatia   \n",
            "896  2018   Russia  Saint Petersburg     Semifinals     France        Belgium   \n",
            "897  2018   Russia            Moscow     Semifinals    Croatia        England   \n",
            "898  2018   Russia  Saint Petersburg    Third place    Belgium        England   \n",
            "899  2018   Russia            Moscow          Final     France        Croatia   \n",
            "\n",
            "     home_score  away_score outcome                    win_conditions  \\\n",
            "0             4           1       H                               NaN   \n",
            "1             0           3       A                               NaN   \n",
            "2             1           2       A                               NaN   \n",
            "3             1           3       A                               NaN   \n",
            "4             1           0       H                               NaN   \n",
            "..          ...         ...     ...                               ...   \n",
            "895           2           2       A  Croatia won in penalties (4 - 3)   \n",
            "896           1           0       H                               NaN   \n",
            "897           2           1       H                Croatia won in AET   \n",
            "898           2           0       H                               NaN   \n",
            "899           4           2       H                               NaN   \n",
            "\n",
            "      winning_team losing_team        date month  dayofweek  \n",
            "0           France      Mexico  1930-07-13   Jul     Sunday  \n",
            "1    United States     Belgium  1930-07-13   Jul     Sunday  \n",
            "2       Yugoslavia      Brazil  1930-07-14   Jul     Monday  \n",
            "3          Romania        Peru  1930-07-14   Jul     Monday  \n",
            "4        Argentina      France  1930-07-15   Jul    Tuesday  \n",
            "..             ...         ...         ...   ...        ...  \n",
            "895        Croatia      Russia  2018-07-07   Jul   Saturday  \n",
            "896         France     Belgium  2018-07-10   Jul    Tuesday  \n",
            "897        Croatia     England  2018-07-11   Jul  Wednesday  \n",
            "898        Belgium     England  2018-07-14   Jul   Saturday  \n",
            "899         France     Croatia  2018-07-15   Jul     Sunday  \n",
            "\n",
            "[900 rows x 15 columns]\n"
          ]
        }
      ],
      "source": [
        "import pandas as pd\n",
        "data = pd.read_csv('Dataset/wcmatches.csv')\n",
        "num_duplicates = data.duplicated().sum()\n",
        "data_cleaned = data.drop_duplicates()\n",
        "print(\"Number of duplicate rows:\", num_duplicates)\n",
        "print(\"DataFrame after dropping all duplicate rows:\")\n",
        "print(data_cleaned)\n",
        "data_cleaned.to_csv('Cleaned_dataset.csv', index=False)"
      ]
    },
    {
      "cell_type": "markdown",
      "metadata": {},
      "source": [
        "This shows that our dataset has no duplicate rows, so the total number of rows remains unchanged at 900."
      ]
    },
    {
      "cell_type": "markdown",
      "metadata": {},
      "source": [
        "###2-Handling Missing Values: "
      ]
    },
    {
      "cell_type": "markdown",
      "metadata": {},
      "source": [
        "####First, we calculate the number of missing values in our dataset:"
      ]
    },
    {
      "cell_type": "code",
      "execution_count": 8,
      "metadata": {},
      "outputs": [
        {
          "name": "stdout",
          "output_type": "stream",
          "text": [
            "     year        country               city        stage     home_team  \\\n",
            "483  1994  United States            Pontiac      Group B        Sweden   \n",
            "710  2010   South Africa       Johannesburg      Group B     Argentina   \n",
            "73   1950         Brazil     Rio de Janeiro  Final Round        Brazil   \n",
            "435  1990          Italy              Udine      Group E   South Korea   \n",
            "13   1930        Uruguay         Montevideo      Group 3       Uruguay   \n",
            "265  1974        Germany  Frankfurt am Main      Group B  West Germany   \n",
            "24   1934          Italy               Rome  Round of 16         Italy   \n",
            "661  2006        Germany            Hamburg      Group A       Ecuador   \n",
            "438  1990          Italy           Florence      Group A       Austria   \n",
            "25   1934          Italy              Milan  Round of 16   Netherlands   \n",
            "271  1978      Argentina       Buenos Aires      Group 1     Argentina   \n",
            "736  2010   South Africa       Bloemfontein      Group F      Slovakia   \n",
            "354  1982          Spain          Barcelona      Group C         Italy   \n",
            "816  2014         Brazil           Curitiba      Group H       Algeria   \n",
            "432  1990          Italy              Genoa      Group C        Sweden   \n",
            "709  2010   South Africa          Cape Town      Group A       Uruguay   \n",
            "338  1982          Spain             Oviedo      Group 2       Algeria   \n",
            "272  1978      Argentina      Mar del Plata      Group 1        France   \n",
            "82   1954    Switzerland           Lausanne      Group 4   Switzerland   \n",
            "846  2018         Russia      Rostov-on-Don      Group E        Brazil   \n",
            "\n",
            "         away_team  home_score  away_score outcome win_conditions  \\\n",
            "483         Russia           3           1       H            NaN   \n",
            "710        Nigeria           1           0       H            NaN   \n",
            "73         Uruguay           1           2       A            NaN   \n",
            "435          Spain           1           3       A            NaN   \n",
            "13         Romania           4           0       H            NaN   \n",
            "265         Poland           1           0       H            NaN   \n",
            "24   United States           7           1       H            NaN   \n",
            "661     Costa Rica           3           0       H            NaN   \n",
            "438  United States           2           1       H            NaN   \n",
            "25     Switzerland           2           3       A            NaN   \n",
            "271        Hungary           2           1       H            NaN   \n",
            "736       Paraguay           0           2       A            NaN   \n",
            "354         Brazil           3           2       H            NaN   \n",
            "816         Russia           1           1       D            NaN   \n",
            "432       Scotland           1           2       A            NaN   \n",
            "709         France           0           0       D            NaN   \n",
            "338          Chile           3           2       H            NaN   \n",
            "272          Italy           1           2       A            NaN   \n",
            "82           Italy           2           1       H            NaN   \n",
            "846    Switzerland           1           1       D            NaN   \n",
            "\n",
            "     winning_team    losing_team        date month  dayofweek  \n",
            "483        Sweden         Russia  1994-06-24   Jun     Friday  \n",
            "710     Argentina        Nigeria  2010-06-12   Jun   Saturday  \n",
            "73        Uruguay         Brazil  1950-07-16   Jul     Sunday  \n",
            "435         Spain    South Korea  1990-06-17   Jun     Sunday  \n",
            "13        Uruguay        Romania  1930-07-21   Jul     Monday  \n",
            "265  West Germany         Poland  1974-07-03   Jul  Wednesday  \n",
            "24          Italy  United States  1934-05-27   May     Sunday  \n",
            "661       Ecuador     Costa Rica  2006-06-15   Jun   Thursday  \n",
            "438       Austria  United States  1990-06-19   Jun    Tuesday  \n",
            "25    Switzerland    Netherlands  1934-05-27   May     Sunday  \n",
            "271     Argentina        Hungary  1978-06-02   Jun     Friday  \n",
            "736      Paraguay       Slovakia  2010-06-20   Jun     Sunday  \n",
            "354         Italy         Brazil  1982-07-05   Jul     Monday  \n",
            "816           NaN            NaN  2014-06-26   Jun   Thursday  \n",
            "432      Scotland         Sweden  1990-06-16   Jun   Saturday  \n",
            "709           NaN            NaN  2010-06-11   Jun     Friday  \n",
            "338       Algeria          Chile  1982-06-24   Jun   Thursday  \n",
            "272         Italy         France  1978-06-02   Jun     Friday  \n",
            "82    Switzerland          Italy  1954-06-17   Jun   Thursday  \n",
            "846           NaN            NaN  2018-06-17   Jun     Sunday  \n"
          ]
        },
        {
          "name": "stdout",
          "output_type": "stream",
          "text": [
            "Missing values in each column:\n",
            "year                0\n",
            "country             0\n",
            "city                0\n",
            "stage               0\n",
            "home_team           0\n",
            "away_team           0\n",
            "home_score          0\n",
            "away_score          0\n",
            "outcome             0\n",
            "win_conditions    838\n",
            "winning_team      169\n",
            "losing_team       169\n",
            "date                0\n",
            "month               0\n",
            "dayofweek           0\n",
            "dtype: int64\n",
            "\n",
            "Rows with missing values:\n",
            "     year  country              city          stage  home_team      away_team  \\\n",
            "0    1930  Uruguay        Montevideo        Group 1     France         Mexico   \n",
            "1    1930  Uruguay        Montevideo        Group 4    Belgium  United States   \n",
            "2    1930  Uruguay        Montevideo        Group 2     Brazil     Yugoslavia   \n",
            "3    1930  Uruguay        Montevideo        Group 3       Peru        Romania   \n",
            "4    1930  Uruguay        Montevideo        Group 1  Argentina         France   \n",
            "..    ...      ...               ...            ...        ...            ...   \n",
            "893  2018   Russia             Kazan  Quarterfinals     Brazil        Belgium   \n",
            "894  2018   Russia            Samara  Quarterfinals     Sweden        England   \n",
            "896  2018   Russia  Saint Petersburg     Semifinals     France        Belgium   \n",
            "898  2018   Russia  Saint Petersburg    Third place    Belgium        England   \n",
            "899  2018   Russia            Moscow          Final     France        Croatia   \n",
            "\n",
            "     home_score  away_score outcome win_conditions   winning_team losing_team  \\\n",
            "0             4           1       H            NaN         France      Mexico   \n",
            "1             0           3       A            NaN  United States     Belgium   \n",
            "2             1           2       A            NaN     Yugoslavia      Brazil   \n",
            "3             1           3       A            NaN        Romania        Peru   \n",
            "4             1           0       H            NaN      Argentina      France   \n",
            "..          ...         ...     ...            ...            ...         ...   \n",
            "893           1           2       A            NaN        Belgium      Brazil   \n",
            "894           0           2       A            NaN        England      Sweden   \n",
            "896           1           0       H            NaN         France     Belgium   \n",
            "898           2           0       H            NaN        Belgium     England   \n",
            "899           4           2       H            NaN         France     Croatia   \n",
            "\n",
            "           date month dayofweek  \n",
            "0    1930-07-13   Jul    Sunday  \n",
            "1    1930-07-13   Jul    Sunday  \n",
            "2    1930-07-14   Jul    Monday  \n",
            "3    1930-07-14   Jul    Monday  \n",
            "4    1930-07-15   Jul   Tuesday  \n",
            "..          ...   ...       ...  \n",
            "893  2018-07-06   Jul    Friday  \n",
            "894  2018-07-07   Jul  Saturday  \n",
            "896  2018-07-10   Jul   Tuesday  \n",
            "898  2018-07-14   Jul  Saturday  \n",
            "899  2018-07-15   Jul    Sunday  \n",
            "\n",
            "[838 rows x 15 columns]\n"
          ]
        }
      ],
      "source": [
        "import pandas as pd\n",
        "data = pd.read_csv('Cleaned_dataset.csv');\n",
        "sample=data.sample(n=20);\n",
        "print(sample);\n",
        "missing_values = data.isna()\n",
        "missing_counts = missing_values.sum();\n",
        "rows_with_missing = data[data.isna().any(axis=1)];\n",
        "\n",
        "print(\"Missing values in each column:\");\n",
        "print(missing_counts);\n",
        "print(\"\\nRows with missing values:\");\n",
        "print(rows_with_missing);"
      ]
    },
    {
      "cell_type": "markdown",
      "metadata": {},
      "source": [
        "This shows that our dataset has missing values in multiple columns: 838 in the 'win_conditions' column, 169 in the 'winning_team' column, and 169 in the 'losing_team' column."
      ]
    },
    {
      "cell_type": "markdown",
      "metadata": {},
      "source": [
        "####Secondly, we handle these missing values by calculating the mode value for the target columns ['win_conditions', 'winning_team', 'losing_team'], and then we replace the missing values with the mode."
      ]
    },
    {
      "cell_type": "code",
      "execution_count": 9,
      "metadata": {},
      "outputs": [
        {
          "name": "stdout",
          "output_type": "stream",
          "text": [
            "Missing values after filling:\n",
            "year              0\n",
            "country           0\n",
            "city              0\n",
            "stage             0\n",
            "home_team         0\n",
            "away_team         0\n",
            "home_score        0\n",
            "away_score        0\n",
            "outcome           0\n",
            "win_conditions    0\n",
            "winning_team      0\n",
            "losing_team       0\n",
            "date              0\n",
            "month             0\n",
            "dayofweek         0\n",
            "dtype: int64\n"
          ]
        }
      ],
      "source": [
        "import pandas as pd\n",
        "\n",
        "data = pd.read_csv('Cleaned_dataset.csv')\n",
        "\n",
        "data.columns = data.columns.str.strip()\n",
        "\n",
        "\n",
        "for column in ['win_conditions', 'winning_team', 'losing_team']:\n",
        "    modal_value = data[column].mode()[0]  \n",
        "    data[column] = data[column].fillna(value=modal_value)  \n",
        "\n",
        "print(\"Missing values after filling:\")\n",
        "print(data.isnull().sum())\n",
        "\n",
        "data.to_csv('Cleaned_dataset.csv', index=False)\n",
        "\n"
      ]
    },
    {
      "cell_type": "markdown",
      "metadata": {},
      "source": [
        "and Here, the output shows that we handled all the missing values."
      ]
    },
    {
      "cell_type": "markdown",
      "metadata": {},
      "source": [
        "###3-Handling outliers:"
      ]
    },
    {
      "cell_type": "markdown",
      "metadata": {},
      "source": [
        "Before we handle our outliers we did choose the IQR method Based on our dataset to identify how many outliers in our dataset."
      ]
    },
    {
      "cell_type": "code",
      "execution_count": 10,
      "metadata": {},
      "outputs": [
        {
          "name": "stdout",
          "output_type": "stream",
          "text": [
            "Outlier Counts:\n",
            "year: 0 rows with outliers\n",
            "home_score: 24 rows with outliers\n",
            "away_score: 11 rows with outliers\n",
            "Total Rows with Outliers: 35\n"
          ]
        }
      ],
      "source": [
        "import pandas as pd\n",
        "data = pd.read_csv('Cleaned_dataset.csv')\n",
        "import numpy as np\n",
        "outlier_threshold = 1.5\n",
        "\n",
        "def count_outliers(column_data):\n",
        "    q1 = np.percentile(column_data, 25)\n",
        "    q3 = np.percentile(column_data, 75)\n",
        "    iqr = q3 - q1\n",
        "    upper_bound = q3 + outlier_threshold * iqr\n",
        "    lower_bound = q1 - outlier_threshold * iqr\n",
        "    outliers = (column_data > upper_bound) | (column_data < lower_bound)\n",
        "    return sum(outliers)\n",
        "\n",
        "numeric_columns = data.select_dtypes(include=[np.number]).columns\n",
        "\n",
        "outlier_counts = {}\n",
        "total_rows_with_outliers = 0\n",
        "\n",
        "for column in numeric_columns:\n",
        "    outliers = count_outliers(data[column])\n",
        "    outlier_counts[column] = outliers\n",
        "    total_rows_with_outliers += outliers\n",
        "\n",
        "total_rows = len(data)\n",
        "\n",
        "print(\"Outlier Counts:\")\n",
        "for column, count in outlier_counts.items():\n",
        "    print(f\"{column}: {count} rows with outliers\")\n",
        "\n",
        "print(f\"Total Rows with Outliers: {total_rows_with_outliers}\")"
      ]
    },
    {
      "cell_type": "markdown",
      "metadata": {},
      "source": [
        "The analysis of our dataset revealed that a total of 35 rows contain outliers, which is a small proportion compared to the overall dataset of 900 rows. Specifically, there are 0 rows with outliers in the 'year' column, 24 rows in the 'home_score' column, and 11 rows in the 'away_score' column. Although this represents a limited number of outliers, their presence indicates some extreme values that deviate from the majority of the data. To address this issue, we have decided to adopt a strategy of capping the outliers. Rather than removing these data points entirely, we opted to replace them with the nearest non-outlier values. This approach allows us to retain the entirety of our dataset while mitigating the impact of these extreme values on our subsequent analyses. By capping the outliers and maintaining the remaining data, we aim to preserve the integrity of the dataset and avoid the potential loss of valuable information that would occur through outright removal of the outliers. This ensures that our analysis incorporates as much relevant information as possible while still accounting for the presence of extreme observations"
      ]
    },
    {
      "cell_type": "markdown",
      "metadata": {},
      "source": [
        "####handling outliers:"
      ]
    },
    {
      "cell_type": "code",
      "execution_count": null,
      "metadata": {},
      "outputs": [],
      "source": []
    },
    {
      "cell_type": "markdown",
      "metadata": {},
      "source": [
        "####Checking the results by counting outliers after handling them."
      ]
    }
  ],
  "metadata": {
    "kernelspec": {
      "display_name": "Python 3",
      "language": "python",
      "name": "python3"
    },
    "language_info": {
      "codemirror_mode": {
        "name": "ipython",
        "version": 3
      },
      "file_extension": ".py",
      "mimetype": "text/x-python",
      "name": "python",
      "nbconvert_exporter": "python",
      "pygments_lexer": "ipython3",
      "version": "3.12.1"
    }
  },
  "nbformat": 4,
  "nbformat_minor": 4
}
