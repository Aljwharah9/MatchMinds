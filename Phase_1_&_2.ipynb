{
  "cells": [
    {
      "cell_type": "markdown",
      "metadata": {},
      "source": [
        "#Phase1:"
      ]
    },
    {
      "cell_type": "markdown",
      "metadata": {},
      "source": [
        "##Goal of Collecting Dataset:\n",
        "\n",
        "The primary goal of analyzing this dataset is to:\n",
        "\n",
        "Performance Analysis: Assess team and player performances by examining various metrics such as goals, assists, and other key statistics.\n",
        "\n",
        "Outcome Prediction: Develop models to predict match outcomes or player performances based on historical data.\n",
        "\n",
        "Trend Identification: Discover trends and patterns in match results, player statistics, and team strategies.\n",
        "\n",
        "We will achieve this by clustering data and classifying it using machine learning techniques acquired during the course."
      ]
    },
    {
      "cell_type": "markdown",
      "metadata": {},
      "source": [
        "##Source of Dataset:\n",
        "Kaggle Platform Dataset link: https://www.kaggle.com/datasets/evangower/fifa-world-cup"
      ]
    },
    {
      "cell_type": "markdown",
      "metadata": {},
      "source": [
        "##General Information about the Dataset:\n",
        "\n",
        "Number of Attributes:15\n",
        "\n",
        "Number of Objects:900 (Match)\n",
        "\n",
        "Class Name/Labels: outcome\n"
      ]
    },
    {
      "cell_type": "code",
      "execution_count": 13,
      "metadata": {},
      "outputs": [
        {
          "name": "stdout",
          "output_type": "stream",
          "text": [
            "<class 'pandas.core.frame.DataFrame'>\n",
            "RangeIndex: 900 entries, 0 to 899\n",
            "Data columns (total 15 columns):\n",
            " #   Column          Non-Null Count  Dtype \n",
            "---  ------          --------------  ----- \n",
            " 0   year            900 non-null    int64 \n",
            " 1   country         900 non-null    object\n",
            " 2   city            900 non-null    object\n",
            " 3   stage           900 non-null    object\n",
            " 4   home_team       900 non-null    object\n",
            " 5   away_team       900 non-null    object\n",
            " 6   home_score      900 non-null    int64 \n",
            " 7   away_score      900 non-null    int64 \n",
            " 8   outcome         900 non-null    object\n",
            " 9   win_conditions  62 non-null     object\n",
            " 10  winning_team    731 non-null    object\n",
            " 11  losing_team     731 non-null    object\n",
            " 12  date            900 non-null    object\n",
            " 13  month           900 non-null    object\n",
            " 14  dayofweek       900 non-null    object\n",
            "dtypes: int64(3), object(12)\n",
            "memory usage: 105.6+ KB\n",
            "None\n",
            "Number of rows: 900\n"
          ]
        }
      ],
      "source": [
        "\n",
        "import pandas as pd\n",
        "\n",
        "df = pd.read_csv('Dataset/wcmatches.csv')\n",
        "\n",
        "print(df.info())\n",
        "\n",
        "num_row = len(df)\n",
        "print(\"Number of rows:\", num_row)\n"
      ]
    },
    {
      "cell_type": "markdown",
      "metadata": {},
      "source": [
        "------------------------------------------------------"
      ]
    },
    {
      "cell_type": "markdown",
      "metadata": {},
      "source": [
        "#Phase2:"
      ]
    },
    {
      "cell_type": "markdown",
      "metadata": {},
      "source": [
        "| Attributes Name | Data type | Description | Possible Values |\n",
        "|----------|----------|----------|----------|\n",
        "|Year |\tInteger| The year of the match |\tAny year (e.g., 1930, 1934, etc.)|\n",
        "|Country |\tString |The country hosting the World Cup |  Categorical string values (different possible)|\n",
        "|City\t| String |\tThe city where the match took place\t | Categorical string values (different possible)|\n",
        "|Stage\t| String|\tThe stage of the tournament | Categorical string values (different possible)|\n",
        "|Home Team |\tString | The team playing at home |\tCategorical string values (different possible)|\n",
        "|Away Team |\tString |\tThe team playing away |\tCategorical string values (different possible)|\n",
        "|Home Score |\tInteger\t| The score of the home team |\t0-10|\n",
        "|Away Score\t| Integer |\tThe score of the away team |\t0-8|\n",
        "|Outcome |\tString | The result of the match |\tH (Home win), A (Away win), D (Draw)|\n",
        "|Win Conditions |\tString |\tConditions under which the winning team was determined\tSpecific phrases |Categorical string values (different possible)|\n",
        "|Winning Team |\tString | The team that won the match |\tCategorical string values (different possible)|\n",
        "|Losing Team|\tString | The team that lost the match |\tCategorical string values (different possible)|\n",
        "|Date |Date |\tThe date of the match |\tDatetime |\n",
        "|Month |String\t|The month in which the match took place|Categorical string values (different possible)|\n",
        "|DayOfWeek |\tString |\tThe day of the week when the match occurred | Categorical string values (different possible)|\n"
      ]
    },
    {
      "cell_type": "markdown",
      "metadata": {},
      "source": [
        "##Sample"
      ]
    },
    {
      "cell_type": "code",
      "execution_count": 14,
      "metadata": {},
      "outputs": [
        {
          "name": "stdout",
          "output_type": "stream",
          "text": [
            "     year        country              city          stage    home_team  \\\n",
            "84   1954    Switzerland          Lausanne        Group 1       Brazil   \n",
            "37   1938         France          Toulouse    Round of 16         Cuba   \n",
            "592  2002          Japan           Saitama        Group H        Japan   \n",
            "194  1966        England        Sunderland  Quarterfinals      Hungary   \n",
            "374  1986         Mexico       Mexico City        Group A  South Korea   \n",
            "..    ...            ...               ...            ...          ...   \n",
            "859  2018         Russia  Saint Petersburg        Group E       Brazil   \n",
            "1    1930        Uruguay        Montevideo        Group 4      Belgium   \n",
            "899  2018         Russia            Moscow          Final       France   \n",
            "450  1990          Italy             Turin    Round of 16       Brazil   \n",
            "469  1994  United States           Orlando        Group F      Belgium   \n",
            "\n",
            "         away_team  home_score  away_score outcome win_conditions  \\\n",
            "84      Yugoslavia           1           1       D            NaN   \n",
            "37         Romania           3           3       D            NaN   \n",
            "592        Belgium           2           2       D            NaN   \n",
            "194   Soviet Union           1           2       A            NaN   \n",
            "374       Bulgaria           1           1       D            NaN   \n",
            "..             ...         ...         ...     ...            ...   \n",
            "859     Costa Rica           2           0       H            NaN   \n",
            "1    United States           0           3       A            NaN   \n",
            "899        Croatia           4           2       H            NaN   \n",
            "450      Argentina           0           1       A            NaN   \n",
            "469        Morocco           1           0       H            NaN   \n",
            "\n",
            "      winning_team losing_team        date month dayofweek  \n",
            "84             NaN         NaN  1954-06-19   Jun  Saturday  \n",
            "37             NaN         NaN  1938-06-05   Jun    Sunday  \n",
            "592            NaN         NaN  2002-06-04   Jun   Tuesday  \n",
            "194   Soviet Union     Hungary  1966-07-23   Jul  Saturday  \n",
            "374            NaN         NaN  1986-06-05   Jun  Thursday  \n",
            "..             ...         ...         ...   ...       ...  \n",
            "859         Brazil  Costa Rica  2018-06-22   Jun    Friday  \n",
            "1    United States     Belgium  1930-07-13   Jul    Sunday  \n",
            "899         France     Croatia  2018-07-15   Jul    Sunday  \n",
            "450      Argentina      Brazil  1990-06-24   Jun    Sunday  \n",
            "469        Belgium     Morocco  1994-06-19   Jun    Sunday  \n",
            "\n",
            "[900 rows x 15 columns]\n"
          ]
        }
      ],
      "source": [
        "\n",
        "sample = df.sample(frac=1)\n",
        "print(sample);"
      ]
    },
    {
      "cell_type": "markdown",
      "metadata": {},
      "source": [
        "##Show the missing value:"
      ]
    },
    {
      "cell_type": "code",
      "execution_count": 15,
      "metadata": {},
      "outputs": [
        {
          "name": "stdout",
          "output_type": "stream",
          "text": [
            "Missing values \n",
            "year                0\n",
            "country             0\n",
            "city                0\n",
            "stage               0\n",
            "home_team           0\n",
            "away_team           0\n",
            "home_score          0\n",
            "away_score          0\n",
            "outcome             0\n",
            "win_conditions    838\n",
            "winning_team      169\n",
            "losing_team       169\n",
            "date                0\n",
            "month               0\n",
            "dayofweek           0\n",
            "dtype: int64\n",
            "The total of Missing value is :\n",
            "1176\n"
          ]
        }
      ],
      "source": [
        "missing_values = df.isnull().sum()\n",
        "print(\"Missing values \")\n",
        "print(missing_values )\n",
        "missing_counts = missing_values.sum();\n",
        "print(\"The total of Missing value is :\")\n",
        "print(missing_counts)"
      ]
    },
    {
      "cell_type": "markdown",
      "metadata": {},
      "source": [
        "##Show the Min., 1st Qu., Median, Mean ,3rd Qu.,Max. for each numeric column:"
      ]
    },
    {
      "cell_type": "markdown",
      "metadata": {},
      "source": []
    },
    {
      "cell_type": "code",
      "execution_count": 16,
      "metadata": {},
      "outputs": [
        {
          "name": "stdout",
          "output_type": "stream",
          "text": [
            "              year  home_score  away_score\n",
            "count   900.000000  900.000000  900.000000\n",
            "mean   1986.915556    1.568889    1.262222\n",
            "std      23.150270    1.489574    1.313960\n",
            "min    1930.000000    0.000000    0.000000\n",
            "25%    1970.000000    0.000000    0.000000\n",
            "50%    1990.000000    1.000000    1.000000\n",
            "75%    2006.000000    2.000000    2.000000\n",
            "max    2018.000000   10.000000    8.000000\n"
          ]
        }
      ],
      "source": [
        "summary_stats=df.describe();\n",
        "print(summary_stats);"
      ]
    },
    {
      "cell_type": "markdown",
      "metadata": {},
      "source": [
        "##Show the Variance:"
      ]
    },
    {
      "cell_type": "code",
      "execution_count": 17,
      "metadata": {},
      "outputs": [
        {
          "name": "stdout",
          "output_type": "stream",
          "text": [
            "year          535.935019\n",
            "home_score      2.218831\n",
            "away_score      1.726491\n",
            "dtype: float64\n"
          ]
        }
      ],
      "source": [
        "variance= df.var(numeric_only=True);\n",
        "print(variance);"
      ]
    },
    {
      "cell_type": "markdown",
      "metadata": {},
      "source": [
        "##Data Preprocessing:"
      ]
    },
    {
      "cell_type": "markdown",
      "metadata": {},
      "source": [
        "###Data Cleaning:"
      ]
    },
    {
      "cell_type": "markdown",
      "metadata": {},
      "source": [
        "###1-Remove duplicates:"
      ]
    },
    {
      "cell_type": "markdown",
      "metadata": {},
      "source": [
        "####First, we count the number of duplicates rows, and then we remove them:"
      ]
    },
    {
      "cell_type": "code",
      "execution_count": 18,
      "metadata": {},
      "outputs": [
        {
          "name": "stdout",
          "output_type": "stream",
          "text": [
            "Number of duplicate rows: 0\n",
            "DataFrame after dropping all duplicate rows:\n",
            "     year  country              city          stage  home_team      away_team  \\\n",
            "0    1930  Uruguay        Montevideo        Group 1     France         Mexico   \n",
            "1    1930  Uruguay        Montevideo        Group 4    Belgium  United States   \n",
            "2    1930  Uruguay        Montevideo        Group 2     Brazil     Yugoslavia   \n",
            "3    1930  Uruguay        Montevideo        Group 3       Peru        Romania   \n",
            "4    1930  Uruguay        Montevideo        Group 1  Argentina         France   \n",
            "..    ...      ...               ...            ...        ...            ...   \n",
            "895  2018   Russia             Sochi  Quarterfinals     Russia        Croatia   \n",
            "896  2018   Russia  Saint Petersburg     Semifinals     France        Belgium   \n",
            "897  2018   Russia            Moscow     Semifinals    Croatia        England   \n",
            "898  2018   Russia  Saint Petersburg    Third place    Belgium        England   \n",
            "899  2018   Russia            Moscow          Final     France        Croatia   \n",
            "\n",
            "     home_score  away_score outcome                    win_conditions  \\\n",
            "0             4           1       H                               NaN   \n",
            "1             0           3       A                               NaN   \n",
            "2             1           2       A                               NaN   \n",
            "3             1           3       A                               NaN   \n",
            "4             1           0       H                               NaN   \n",
            "..          ...         ...     ...                               ...   \n",
            "895           2           2       A  Croatia won in penalties (4 - 3)   \n",
            "896           1           0       H                               NaN   \n",
            "897           2           1       H                Croatia won in AET   \n",
            "898           2           0       H                               NaN   \n",
            "899           4           2       H                               NaN   \n",
            "\n",
            "      winning_team losing_team        date month  dayofweek  \n",
            "0           France      Mexico  1930-07-13   Jul     Sunday  \n",
            "1    United States     Belgium  1930-07-13   Jul     Sunday  \n",
            "2       Yugoslavia      Brazil  1930-07-14   Jul     Monday  \n",
            "3          Romania        Peru  1930-07-14   Jul     Monday  \n",
            "4        Argentina      France  1930-07-15   Jul    Tuesday  \n",
            "..             ...         ...         ...   ...        ...  \n",
            "895        Croatia      Russia  2018-07-07   Jul   Saturday  \n",
            "896         France     Belgium  2018-07-10   Jul    Tuesday  \n",
            "897        Croatia     England  2018-07-11   Jul  Wednesday  \n",
            "898        Belgium     England  2018-07-14   Jul   Saturday  \n",
            "899         France     Croatia  2018-07-15   Jul     Sunday  \n",
            "\n",
            "[900 rows x 15 columns]\n"
          ]
        }
      ],
      "source": [
        "import pandas as pd\n",
        "data = pd.read_csv('Dataset/wcmatches.csv')\n",
        "num_duplicates = data.duplicated().sum()\n",
        "data_cleaned = data.drop_duplicates()\n",
        "print(\"Number of duplicate rows:\", num_duplicates)\n",
        "print(\"DataFrame after dropping all duplicate rows:\")\n",
        "print(data_cleaned)\n",
        "data_cleaned.to_csv('Cleaned_dataset.csv', index=False)"
      ]
    },
    {
      "cell_type": "markdown",
      "metadata": {},
      "source": [
        "This shows that our dataset has no duplicate rows, so the total number of rows remains unchanged at 900."
      ]
    },
    {
      "cell_type": "markdown",
      "metadata": {},
      "source": [
        "###2-Handling Missing Values: "
      ]
    },
    {
      "cell_type": "markdown",
      "metadata": {},
      "source": [
        "####First, we calculate the number of missing values in our dataset:"
      ]
    },
    {
      "cell_type": "code",
      "execution_count": 19,
      "metadata": {},
      "outputs": [
        {
          "name": "stdout",
          "output_type": "stream",
          "text": [
            "     year       country            city          stage         home_team  \\\n",
            "229  1970        Mexico     Mexico City     Semifinals      West Germany   \n",
            "650  2006       Germany       Nuremberg        Group D            Mexico   \n",
            "430  1990         Italy           Turin        Group C            Brazil   \n",
            "96   1954   Switzerland          Geneva  Quarterfinals      West Germany   \n",
            "5    1930       Uruguay      Montevideo        Group 1             Chile   \n",
            "848  2018        Russia           Sochi        Group G           Belgium   \n",
            "460  1990         Italy          Naples     Semifinals             Italy   \n",
            "381  1986        Mexico  Nezahualcóyotl        Group E           Denmark   \n",
            "771  2010  South Africa    Johannesburg          Final       Netherlands   \n",
            "177  1966       England   Middlesbrough        Group 4             Chile   \n",
            "799  2014        Brazil       Fortaleza        Group G           Germany   \n",
            "397  1986        Mexico            León    Round of 16      Soviet Union   \n",
            "282  1978     Argentina    Buenos Aires        Group 3           Austria   \n",
            "234  1974       Germany         Hamburg        Group 1      East Germany   \n",
            "393  1986        Mexico     Guadalajara        Group D  Northern Ireland   \n",
            "164  1962         Chile        Santiago     Semifinals             Chile   \n",
            "810  2014        Brazil           Natal        Group D             Italy   \n",
            "155  1962         Chile           Arica        Group 1      Soviet Union   \n",
            "862  2018        Russia          Moscow        Group G           Belgium   \n",
            "745  2010  South Africa    Johannesburg        Group D             Ghana   \n",
            "\n",
            "       away_team  home_score  away_score outcome  \\\n",
            "229        Italy           3           4       A   \n",
            "650         Iran           3           1       H   \n",
            "430   Costa Rica           1           0       H   \n",
            "96    Yugoslavia           2           0       H   \n",
            "5         Mexico           3           0       H   \n",
            "848       Panama           3           0       H   \n",
            "460    Argentina           1           1       A   \n",
            "381      Uruguay           6           1       H   \n",
            "771        Spain           0           1       A   \n",
            "177  North Korea           1           1       D   \n",
            "799        Ghana           2           2       D   \n",
            "397      Belgium           3           4       A   \n",
            "282       Sweden           1           0       H   \n",
            "234    Australia           2           0       H   \n",
            "393       Brazil           0           3       A   \n",
            "164       Brazil           2           4       A   \n",
            "810      Uruguay           0           1       A   \n",
            "155      Uruguay           2           1       H   \n",
            "862      Tunisia           5           2       H   \n",
            "745      Germany           0           1       A   \n",
            "\n",
            "                         win_conditions  winning_team       losing_team  \\\n",
            "229                    Italy won in AET         Italy      West Germany   \n",
            "650                                 NaN        Mexico              Iran   \n",
            "430                                 NaN        Brazil        Costa Rica   \n",
            "96                                  NaN  West Germany        Yugoslavia   \n",
            "5                                   NaN         Chile            Mexico   \n",
            "848                                 NaN       Belgium            Panama   \n",
            "460  Argentina won in penalties (4 - 3)     Argentina             Italy   \n",
            "381                                 NaN       Denmark           Uruguay   \n",
            "771                    Spain won in AET         Spain       Netherlands   \n",
            "177                                 NaN           NaN               NaN   \n",
            "799                                 NaN           NaN               NaN   \n",
            "397                  Belgium won in AET       Belgium      Soviet Union   \n",
            "282                                 NaN       Austria            Sweden   \n",
            "234                                 NaN  East Germany         Australia   \n",
            "393                                 NaN        Brazil  Northern Ireland   \n",
            "164                                 NaN        Brazil             Chile   \n",
            "810                                 NaN       Uruguay             Italy   \n",
            "155                                 NaN  Soviet Union           Uruguay   \n",
            "862                                 NaN       Belgium           Tunisia   \n",
            "745                                 NaN       Germany             Ghana   \n",
            "\n",
            "           date month  dayofweek  \n",
            "229  1970-06-17   Jun  Wednesday  \n",
            "650  2006-06-11   Jun     Sunday  \n",
            "430  1990-06-16   Jun   Saturday  \n",
            "96   1954-06-27   Jun     Sunday  \n",
            "5    1930-07-16   Jul  Wednesday  \n",
            "848  2018-06-18   Jun     Monday  \n",
            "460  1990-07-03   Jul    Tuesday  \n",
            "381  1986-06-08   Jun     Sunday  \n",
            "771  2010-07-11   Jul     Sunday  \n",
            "177  1966-07-15   Jul     Friday  \n",
            "799  2014-06-21   Jun   Saturday  \n",
            "397  1986-06-15   Jun     Sunday  \n",
            "282  1978-06-07   Jun  Wednesday  \n",
            "234  1974-06-14   Jun     Friday  \n",
            "393  1986-06-12   Jun   Thursday  \n",
            "164  1962-06-13   Jun  Wednesday  \n",
            "810  2014-06-24   Jun    Tuesday  \n",
            "155  1962-06-06   Jun  Wednesday  \n",
            "862  2018-06-23   Jun   Saturday  \n",
            "745  2010-06-23   Jun  Wednesday  \n",
            "Missing values in each column:\n",
            "year                0\n",
            "country             0\n",
            "city                0\n",
            "stage               0\n",
            "home_team           0\n",
            "away_team           0\n",
            "home_score          0\n",
            "away_score          0\n",
            "outcome             0\n",
            "win_conditions    838\n",
            "winning_team      169\n",
            "losing_team       169\n",
            "date                0\n",
            "month               0\n",
            "dayofweek           0\n",
            "dtype: int64\n",
            "\n",
            "Rows with missing values:\n",
            "     year  country              city          stage  home_team      away_team  \\\n",
            "0    1930  Uruguay        Montevideo        Group 1     France         Mexico   \n",
            "1    1930  Uruguay        Montevideo        Group 4    Belgium  United States   \n",
            "2    1930  Uruguay        Montevideo        Group 2     Brazil     Yugoslavia   \n",
            "3    1930  Uruguay        Montevideo        Group 3       Peru        Romania   \n",
            "4    1930  Uruguay        Montevideo        Group 1  Argentina         France   \n",
            "..    ...      ...               ...            ...        ...            ...   \n",
            "893  2018   Russia             Kazan  Quarterfinals     Brazil        Belgium   \n",
            "894  2018   Russia            Samara  Quarterfinals     Sweden        England   \n",
            "896  2018   Russia  Saint Petersburg     Semifinals     France        Belgium   \n",
            "898  2018   Russia  Saint Petersburg    Third place    Belgium        England   \n",
            "899  2018   Russia            Moscow          Final     France        Croatia   \n",
            "\n",
            "     home_score  away_score outcome win_conditions   winning_team losing_team  \\\n",
            "0             4           1       H            NaN         France      Mexico   \n",
            "1             0           3       A            NaN  United States     Belgium   \n",
            "2             1           2       A            NaN     Yugoslavia      Brazil   \n",
            "3             1           3       A            NaN        Romania        Peru   \n",
            "4             1           0       H            NaN      Argentina      France   \n",
            "..          ...         ...     ...            ...            ...         ...   \n",
            "893           1           2       A            NaN        Belgium      Brazil   \n",
            "894           0           2       A            NaN        England      Sweden   \n",
            "896           1           0       H            NaN         France     Belgium   \n",
            "898           2           0       H            NaN        Belgium     England   \n",
            "899           4           2       H            NaN         France     Croatia   \n",
            "\n",
            "           date month dayofweek  \n",
            "0    1930-07-13   Jul    Sunday  \n",
            "1    1930-07-13   Jul    Sunday  \n",
            "2    1930-07-14   Jul    Monday  \n",
            "3    1930-07-14   Jul    Monday  \n",
            "4    1930-07-15   Jul   Tuesday  \n",
            "..          ...   ...       ...  \n",
            "893  2018-07-06   Jul    Friday  \n",
            "894  2018-07-07   Jul  Saturday  \n",
            "896  2018-07-10   Jul   Tuesday  \n",
            "898  2018-07-14   Jul  Saturday  \n",
            "899  2018-07-15   Jul    Sunday  \n",
            "\n",
            "[838 rows x 15 columns]\n"
          ]
        }
      ],
      "source": [
        "import pandas as pd\n",
        "data = pd.read_csv('Cleaned_dataset.csv');\n",
        "sample=data.sample(n=20);\n",
        "print(sample);\n",
        "missing_values = data.isna()\n",
        "missing_counts = missing_values.sum();\n",
        "rows_with_missing = data[data.isna().any(axis=1)];\n",
        "\n",
        "print(\"Missing values in each column:\");\n",
        "print(missing_counts);\n",
        "print(\"\\nRows with missing values:\");\n",
        "print(rows_with_missing);"
      ]
    },
    {
      "cell_type": "markdown",
      "metadata": {},
      "source": [
        "This shows that our dataset has missing values in multiple columns: 838 in the 'win_conditions' column, 169 in the 'winning_team' column, and 169 in the 'losing_team' column."
      ]
    },
    {
      "cell_type": "markdown",
      "metadata": {},
      "source": [
        "#### Secondly, we handle these missing values by calculating the mode value for the target columns ['win_conditions', 'winning_team', 'losing_team'], and then we replace the missing values with the mode."
      ]
    },
    {
      "cell_type": "code",
      "execution_count": 20,
      "metadata": {},
      "outputs": [
        {
          "name": "stdout",
          "output_type": "stream",
          "text": [
            "Missing values after filling:\n",
            "year              0\n",
            "country           0\n",
            "city              0\n",
            "stage             0\n",
            "home_team         0\n",
            "away_team         0\n",
            "home_score        0\n",
            "away_score        0\n",
            "outcome           0\n",
            "win_conditions    0\n",
            "winning_team      0\n",
            "losing_team       0\n",
            "date              0\n",
            "month             0\n",
            "dayofweek         0\n",
            "dtype: int64\n"
          ]
        }
      ],
      "source": [
        "import pandas as pd\n",
        "\n",
        "data = pd.read_csv('Cleaned_dataset.csv')\n",
        "\n",
        "data.columns = data.columns.str.strip()\n",
        "\n",
        "\n",
        "for column in ['win_conditions', 'winning_team', 'losing_team']:\n",
        "    modal_value = data[column].mode()[0]  \n",
        "    data[column] = data[column].fillna(value=modal_value)  \n",
        "\n",
        "print(\"Missing values after filling:\")\n",
        "print(data.isnull().sum())\n",
        "\n",
        "data.to_csv('Cleaned_dataset.csv', index=False)\n",
        "\n"
      ]
    },
    {
      "cell_type": "markdown",
      "metadata": {},
      "source": [
        "and Here, the output shows that we handled all the missing values."
      ]
    },
    {
      "cell_type": "markdown",
      "metadata": {},
      "source": [
        "###3-Handling Outliers:"
      ]
    },
    {
      "cell_type": "markdown",
      "metadata": {},
      "source": [
        "Before we handle our outliers we did choose the IQR method Based on our dataset to identify how many outliers in our dataset."
      ]
    },
    {
      "cell_type": "code",
      "execution_count": 21,
      "metadata": {},
      "outputs": [
        {
          "name": "stdout",
          "output_type": "stream",
          "text": [
            "Outlier Counts:\n",
            "year: 0 rows with outliers\n",
            "home_score: 24 rows with outliers\n",
            "away_score: 11 rows with outliers\n",
            "Total Rows with Outliers: 35\n"
          ]
        }
      ],
      "source": [
        "import pandas as pd\n",
        "data = pd.read_csv('Cleaned_dataset.csv')\n",
        "import numpy as np\n",
        "outlier_threshold = 1.5\n",
        "\n",
        "def count_outliers(column_data):\n",
        "    q1 = np.percentile(column_data, 25)\n",
        "    q3 = np.percentile(column_data, 75)\n",
        "    iqr = q3 - q1\n",
        "    upper_bound = q3 + outlier_threshold * iqr\n",
        "    lower_bound = q1 - outlier_threshold * iqr\n",
        "    outliers = (column_data > upper_bound) | (column_data < lower_bound)\n",
        "    return sum(outliers)\n",
        "\n",
        "numeric_columns = data.select_dtypes(include=[np.number]).columns\n",
        "\n",
        "outlier_counts = {}\n",
        "total_rows_with_outliers = 0\n",
        "\n",
        "for column in numeric_columns:\n",
        "    outliers = count_outliers(data[column])\n",
        "    outlier_counts[column] = outliers\n",
        "    total_rows_with_outliers += outliers\n",
        "\n",
        "total_rows = len(data)\n",
        "\n",
        "print(\"Outlier Counts:\")\n",
        "for column, count in outlier_counts.items():\n",
        "    print(f\"{column}: {count} rows with outliers\")\n",
        "\n",
        "print(f\"Total Rows with Outliers: {total_rows_with_outliers}\")"
      ]
    },
    {
      "cell_type": "markdown",
      "metadata": {},
      "source": [
        "The analysis of our dataset revealed that a total of 35 rows contain outliers, which is a small proportion compared to the overall dataset of 900 rows. Specifically, there are 0 rows with outliers in the 'year' column, 24 rows in the 'home_score' column, and 11 rows in the 'away_score' column. Although this represents a limited number of outliers, their presence indicates some extreme values that deviate from the majority of the data. To address this issue, we have decided to adopt a strategy of capping the outliers. Rather than removing these data points entirely, we opted to replace them with the nearest non-outlier values. This approach allows us to retain the entirety of our dataset while mitigating the impact of these extreme values on our subsequent analyses. By capping the outliers and maintaining the remaining data, we aim to preserve the integrity of the dataset and avoid the potential loss of valuable information that would occur through outright removal of the outliers. This ensures that our analysis incorporates as much relevant information as possible while still accounting for the presence of extreme observations"
      ]
    },
    {
      "cell_type": "markdown",
      "metadata": {},
      "source": [
        "####Handling Outliers:"
      ]
    },
    {
      "cell_type": "code",
      "execution_count": 22,
      "metadata": {},
      "outputs": [],
      "source": [
        "import pandas as pd\n",
        "import numpy as np\n",
        "\n",
        "data = pd.read_csv('Cleaned_dataset.csv')\n",
        "\n",
        "outlier_threshold = 1.5\n",
        "\n",
        "def count_outliers(column_data):\n",
        "    q1 = np.percentile(column_data, 25)\n",
        "    q3 = np.percentile(column_data, 75)\n",
        "    iqr = q3 - q1\n",
        "    upper_bound = q3 + outlier_threshold * iqr\n",
        "    lower_bound = q1 - outlier_threshold * iqr\n",
        "    outliers = (column_data > upper_bound) | (column_data < lower_bound)\n",
        "    return sum(outliers)\n",
        "\n",
        "numeric_columns = data.select_dtypes(include=[np.number]).columns\n",
        "\n",
        "outlier_counts = {}\n",
        "total_rows = len(data)\n",
        "\n",
        "for column in numeric_columns:\n",
        "    outliers = count_outliers(data[column])\n",
        "    outlier_counts[column] = outliers\n",
        "    \n",
        "    q1 = np.percentile(data[column], 25)\n",
        "    q3 = np.percentile(data[column], 75)\n",
        "    iqr = q3 - q1\n",
        "    upper_bound = q3 + outlier_threshold * iqr\n",
        "    lower_bound = q1 - outlier_threshold * iqr\n",
        "    data[column] = np.clip(data[column], lower_bound, upper_bound)\n",
        "\n",
        "data.to_csv('Cleaned_dataset.csv', index=False)\n"
      ]
    },
    {
      "cell_type": "markdown",
      "metadata": {},
      "source": [
        "####Checking the results by counting outliers after handling them."
      ]
    },
    {
      "cell_type": "code",
      "execution_count": 23,
      "metadata": {},
      "outputs": [
        {
          "name": "stdout",
          "output_type": "stream",
          "text": [
            "Outlier Counts:\n",
            "year: 0 rows with outliers\n",
            "home_score: 0 rows with outliers\n",
            "away_score: 0 rows with outliers\n",
            "Total Rows with Outliers: 0\n"
          ]
        }
      ],
      "source": [
        "import pandas as pd\n",
        "import numpy as np\n",
        "\n",
        "data1 = pd.read_csv('Cleaned_dataset.csv')\n",
        "\n",
        "outlier_threshold = 1.5\n",
        "\n",
        "def count_outliers(column_data1):\n",
        "    q1 = np.percentile(column_data1, 25)\n",
        "    q3 = np.percentile(column_data1, 75)\n",
        "    iqr = q3 - q1\n",
        "    upper_bound = q3 + outlier_threshold * iqr\n",
        "    lower_bound = q1 - outlier_threshold * iqr\n",
        "    outliers = (column_data1 > upper_bound) | (column_data1 < lower_bound)\n",
        "    return sum(outliers)\n",
        "\n",
        "\n",
        "numeric_columns = data1.select_dtypes(include=[np.number]).columns\n",
        "\n",
        "\n",
        "outlier_counts = {}\n",
        "total_rows_with_outliers = 0\n",
        "\n",
        "\n",
        "for column in numeric_columns:\n",
        "    outliers = count_outliers(data1[column])\n",
        "    outlier_counts[column] = outliers\n",
        "    total_rows_with_outliers += outliers\n",
        "\n",
        "total_rows = len(data1)\n",
        "\n",
        "print(\"Outlier Counts:\")\n",
        "for column, count in outlier_counts.items():\n",
        "    print(f\"{column}: {count} rows with outliers\")\n",
        "\n",
        "print(f\"Total Rows with Outliers: {total_rows_with_outliers}\")\n"
      ]
    },
    {
      "cell_type": "code",
      "execution_count": null,
      "metadata": {},
      "outputs": [],
      "source": []
    },
    {
      "cell_type": "code",
      "execution_count": null,
      "metadata": {},
      "outputs": [],
      "source": []
    },
    {
      "cell_type": "markdown",
      "metadata": {},
      "source": [
        "## Feature Selection:"
      ]
    },
    {
      "cell_type": "markdown",
      "metadata": {},
      "source": [
        "- Correlation Coefficient:"
      ]
    },
    {
      "cell_type": "code",
      "execution_count": 24,
      "metadata": {},
      "outputs": [
        {
          "ename": "ValueError",
          "evalue": "could not convert string to float: 'H'",
          "output_type": "error",
          "traceback": [
            "\u001b[0;31m---------------------------------------------------------------------------\u001b[0m",
            "\u001b[0;31mValueError\u001b[0m                                Traceback (most recent call last)",
            "Cell \u001b[0;32mIn[24], line 7\u001b[0m\n\u001b[1;32m      3\u001b[0m data1 \u001b[38;5;241m=\u001b[39m pd\u001b[38;5;241m.\u001b[39mread_csv(\u001b[38;5;124m\"\u001b[39m\u001b[38;5;124mCleaned_dataset.csv\u001b[39m\u001b[38;5;124m\"\u001b[39m)  \u001b[38;5;66;03m# Update with the correct file path if needed\u001b[39;00m\n\u001b[1;32m      6\u001b[0m \u001b[38;5;66;03m# Calculate correlation coefficients \u001b[39;00m\n\u001b[0;32m----> 7\u001b[0m cor_home_score \u001b[38;5;241m=\u001b[39m \u001b[43mdata1\u001b[49m\u001b[43m[\u001b[49m\u001b[38;5;124;43m'\u001b[39;49m\u001b[38;5;124;43mhome_score\u001b[39;49m\u001b[38;5;124;43m'\u001b[39;49m\u001b[43m]\u001b[49m\u001b[38;5;241;43m.\u001b[39;49m\u001b[43mcorr\u001b[49m\u001b[43m(\u001b[49m\u001b[43mdata1\u001b[49m\u001b[43m[\u001b[49m\u001b[38;5;124;43m'\u001b[39;49m\u001b[38;5;124;43moutcome\u001b[39;49m\u001b[38;5;124;43m'\u001b[39;49m\u001b[43m]\u001b[49m\u001b[43m)\u001b[49m\n\u001b[1;32m      8\u001b[0m cor_away_score \u001b[38;5;241m=\u001b[39m data1[\u001b[38;5;124m'\u001b[39m\u001b[38;5;124maway_score\u001b[39m\u001b[38;5;124m'\u001b[39m]\u001b[38;5;241m.\u001b[39mcorr(data1[\u001b[38;5;124m'\u001b[39m\u001b[38;5;124moutcome\u001b[39m\u001b[38;5;124m'\u001b[39m])\n\u001b[1;32m      9\u001b[0m cor_win_conditions \u001b[38;5;241m=\u001b[39m data1[\u001b[38;5;124m'\u001b[39m\u001b[38;5;124mwin_conditions\u001b[39m\u001b[38;5;124m'\u001b[39m]\u001b[38;5;241m.\u001b[39mcorr(data1[\u001b[38;5;124m'\u001b[39m\u001b[38;5;124moutcome\u001b[39m\u001b[38;5;124m'\u001b[39m])\n",
            "File \u001b[0;32m~/.local/lib/python3.12/site-packages/pandas/core/series.py:2974\u001b[0m, in \u001b[0;36mSeries.corr\u001b[0;34m(self, other, method, min_periods)\u001b[0m\n\u001b[1;32m   2971\u001b[0m     \u001b[38;5;28;01mreturn\u001b[39;00m np\u001b[38;5;241m.\u001b[39mnan\n\u001b[1;32m   2973\u001b[0m this_values \u001b[38;5;241m=\u001b[39m this\u001b[38;5;241m.\u001b[39mto_numpy(dtype\u001b[38;5;241m=\u001b[39m\u001b[38;5;28mfloat\u001b[39m, na_value\u001b[38;5;241m=\u001b[39mnp\u001b[38;5;241m.\u001b[39mnan, copy\u001b[38;5;241m=\u001b[39m\u001b[38;5;28;01mFalse\u001b[39;00m)\n\u001b[0;32m-> 2974\u001b[0m other_values \u001b[38;5;241m=\u001b[39m \u001b[43mother\u001b[49m\u001b[38;5;241;43m.\u001b[39;49m\u001b[43mto_numpy\u001b[49m\u001b[43m(\u001b[49m\u001b[43mdtype\u001b[49m\u001b[38;5;241;43m=\u001b[39;49m\u001b[38;5;28;43mfloat\u001b[39;49m\u001b[43m,\u001b[49m\u001b[43m \u001b[49m\u001b[43mna_value\u001b[49m\u001b[38;5;241;43m=\u001b[39;49m\u001b[43mnp\u001b[49m\u001b[38;5;241;43m.\u001b[39;49m\u001b[43mnan\u001b[49m\u001b[43m,\u001b[49m\u001b[43m \u001b[49m\u001b[43mcopy\u001b[49m\u001b[38;5;241;43m=\u001b[39;49m\u001b[38;5;28;43;01mFalse\u001b[39;49;00m\u001b[43m)\u001b[49m\n\u001b[1;32m   2976\u001b[0m \u001b[38;5;28;01mif\u001b[39;00m method \u001b[38;5;129;01min\u001b[39;00m [\u001b[38;5;124m\"\u001b[39m\u001b[38;5;124mpearson\u001b[39m\u001b[38;5;124m\"\u001b[39m, \u001b[38;5;124m\"\u001b[39m\u001b[38;5;124mspearman\u001b[39m\u001b[38;5;124m\"\u001b[39m, \u001b[38;5;124m\"\u001b[39m\u001b[38;5;124mkendall\u001b[39m\u001b[38;5;124m\"\u001b[39m] \u001b[38;5;129;01mor\u001b[39;00m \u001b[38;5;28mcallable\u001b[39m(method):\n\u001b[1;32m   2977\u001b[0m     \u001b[38;5;28;01mreturn\u001b[39;00m nanops\u001b[38;5;241m.\u001b[39mnancorr(\n\u001b[1;32m   2978\u001b[0m         this_values, other_values, method\u001b[38;5;241m=\u001b[39mmethod, min_periods\u001b[38;5;241m=\u001b[39mmin_periods\n\u001b[1;32m   2979\u001b[0m     )\n",
            "File \u001b[0;32m~/.local/lib/python3.12/site-packages/pandas/core/base.py:662\u001b[0m, in \u001b[0;36mIndexOpsMixin.to_numpy\u001b[0;34m(self, dtype, copy, na_value, **kwargs)\u001b[0m\n\u001b[1;32m    658\u001b[0m         values \u001b[38;5;241m=\u001b[39m values\u001b[38;5;241m.\u001b[39mcopy()\n\u001b[1;32m    660\u001b[0m     values[np\u001b[38;5;241m.\u001b[39masanyarray(isna(\u001b[38;5;28mself\u001b[39m))] \u001b[38;5;241m=\u001b[39m na_value\n\u001b[0;32m--> 662\u001b[0m result \u001b[38;5;241m=\u001b[39m \u001b[43mnp\u001b[49m\u001b[38;5;241;43m.\u001b[39;49m\u001b[43masarray\u001b[49m\u001b[43m(\u001b[49m\u001b[43mvalues\u001b[49m\u001b[43m,\u001b[49m\u001b[43m \u001b[49m\u001b[43mdtype\u001b[49m\u001b[38;5;241;43m=\u001b[39;49m\u001b[43mdtype\u001b[49m\u001b[43m)\u001b[49m\n\u001b[1;32m    664\u001b[0m \u001b[38;5;28;01mif\u001b[39;00m (copy \u001b[38;5;129;01mand\u001b[39;00m \u001b[38;5;129;01mnot\u001b[39;00m fillna) \u001b[38;5;129;01mor\u001b[39;00m (\u001b[38;5;129;01mnot\u001b[39;00m copy \u001b[38;5;129;01mand\u001b[39;00m using_copy_on_write()):\n\u001b[1;32m    665\u001b[0m     \u001b[38;5;28;01mif\u001b[39;00m np\u001b[38;5;241m.\u001b[39mshares_memory(\u001b[38;5;28mself\u001b[39m\u001b[38;5;241m.\u001b[39m_values[:\u001b[38;5;241m2\u001b[39m], result[:\u001b[38;5;241m2\u001b[39m]):\n\u001b[1;32m    666\u001b[0m         \u001b[38;5;66;03m# Take slices to improve performance of check\u001b[39;00m\n",
            "\u001b[0;31mValueError\u001b[0m: could not convert string to float: 'H'"
          ]
        }
      ],
      "source": [
        "import pandas as pd\n",
        "from scipy.stats import chi2_contingency\n",
        "\n",
        "data1 = pd.read_csv(\"after_discretization.csv\")  \n",
        "\n",
        "\n",
        "# Calculate correlation coefficients \n",
        "cor_home_score = data1['home_score'].corr(data1['outcome'])\n",
        "cor_away_score = data1['away_score'].corr(data1['outcome'])\n",
        "cor_win_conditions = data1['win_conditions'].corr(data1['outcome'])\n",
        "cor_winning_team = data1['winning_team'].corr(data1['outcome'])\n",
        "cor_losing_team = data1['losing_team'].corr(data1['outcome'])\n",
        "\n",
        "# Print the correlation coefficients\n",
        "print(\"Correlation coefficients:\")\n",
        "print(\"Home Score:\", cor_home_score)\n",
        "print(\"Away Score:\", cor_away_score)\n",
        "print(\"Win Conditions:\", cor_win_conditions)\n",
        "print(\"Winning Team:\", cor_winning_team)\n",
        "print(\"Losing Team:\", cor_losing_team)"
      ]
    },
    {
      "cell_type": "markdown",
      "metadata": {},
      "source": [
        "- Chi squared:"
      ]
    },
    {
      "cell_type": "code",
      "execution_count": null,
      "metadata": {},
      "outputs": [],
      "source": [
        "import pandas as pd\n",
        "from scipy.stats import chi2_contingency\n",
        "\n",
        "data1 = pd.read_csv('after_discretization.csv')\n",
        "data1 = pd.DataFrame(data1)\n",
        "\n",
        "# Create a contingency table \n",
        "contingency_table = pd.crosstab(data1['stage'], data1['winning_team'])\n",
        "print(\"Contingency Table:\")\n",
        "print(contingency_table)\n",
        "\n",
        "# Perform the chi-square test\n",
        "chi2_stat, p_value, dof, expected = chi2_contingency(contingency_table)\n",
        "print(\"\\nChi-Square Statistic:\", chi2_stat)\n",
        "print(\"Degrees of Freedom:\", dof)\n",
        "print(\"Expected Frequencies:\")\n",
        "print(expected)"
      ]
    },
    {
      "cell_type": "markdown",
      "metadata": {},
      "source": [
        "### Drop Out Highly Correlated Attributes:"
      ]
    },
    {
    "cell_type": "markdown",
    "metadata": {},
    "source": [
      "## Data Transmission"
    ]
    },
    {
    "cell_type": "markdown",
    "metadata": {},
    "source": [
      "## 1- Encoding"
    ]
    },
    {
    "cell_type": "code",
    "execution_count": 24,
    "metadata": {},
    "outputs": [],
    "source": [
      "import pandas as pd\n",
      "from sklearn.preprocessing import LabelEncoder\n",
      "\n",
      "data = pd.read_csv('Cleaned_dataset.csv')\n",
      "\n",
      "le = LabelEncoder()\n",
      "\n",
      "\n",
      "data['country'] = le.fit_transform(data1['country'])\n",
      "data['city'] = le.fit_transform(data1['city'])\n",
      "data['stage'] = le.fit_transform(data1['stage'])\n",
      "data['dayofweek'] = le_day.fit_transform(data1['dayofweek'])\n",
      "print('Encoded DataFrame')\n"
      "print(data1.head())\n"

    ]
    },
    {
    "cell_type": "markdown",
    "metadata": {},
    "source": [
      "## 2- Normalization"
    ]
    },

    {
      "cell_type": "code",
      "execution_count": null,
      "metadata": {},
      "outputs": [],
      "source": []
    }
  ],
  "metadata": {
    "kernelspec": {
      "display_name": "Python 3",
      "language": "python",
      "name": "python3"
    },
    "language_info": {
      "codemirror_mode": {
        "name": "ipython",
        "version": 3
      },
      "file_extension": ".py",
      "mimetype": "text/x-python",
      "name": "python",
      "nbconvert_exporter": "python",
      "pygments_lexer": "ipython3",
      "version": "3.12.1"
    }
  }, 
  "nbformat": 4,
  "nbformat_minor": 4
}
